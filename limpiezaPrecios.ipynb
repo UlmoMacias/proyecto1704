{
 "metadata": {
  "language_info": {
   "codemirror_mode": {
    "name": "ipython",
    "version": 3
   },
   "file_extension": ".py",
   "mimetype": "text/x-python",
   "name": "python",
   "nbconvert_exporter": "python",
   "pygments_lexer": "ipython3",
   "version": "3.8.3"
  },
  "orig_nbformat": 2,
  "kernelspec": {
   "name": "python383jvsc74a57bd02db524e06e9f5f4ffedc911c917cb75e12dbc923643829bf417064a77eb14d37",
   "display_name": "Python 3.8.3 64-bit"
  }
 },
 "nbformat": 4,
 "nbformat_minor": 2,
 "cells": [
  {
   "cell_type": "code",
   "execution_count": 1,
   "metadata": {},
   "outputs": [],
   "source": [
    "import numpy as np\n",
    "import pandas as pd\n",
    "import scipy"
   ]
  },
  {
   "cell_type": "code",
   "execution_count": 2,
   "metadata": {},
   "outputs": [],
   "source": [
    "precios = pd.read_csv(\"Precios5years.csv\")"
   ]
  },
  {
   "cell_type": "code",
   "execution_count": 3,
   "metadata": {},
   "outputs": [
    {
     "output_type": "execute_result",
     "data": {
      "text/plain": [
       "          Fecha  Emisora Serie     Precio\n",
       "0      20161201  ACTICOB     A  27.662738\n",
       "1      20161201  ACTICOB   B-1  25.630848\n",
       "2      20161201  ACTICOB   B-2  26.208114\n",
       "3      20161201  ACTICOB   B-3  26.840196\n",
       "4      20161201  ACTICOB     E  28.032281\n",
       "...         ...      ...   ...        ...\n",
       "94666  20210329    SALUD     B   4.130376\n",
       "94667  20210329    SALUD     C   0.000000\n",
       "94668  20210329    SALUD     E   4.909916\n",
       "94669  20210329    SALUD    FF   5.090870\n",
       "94670  20210329    SALUD     M   4.138616\n",
       "\n",
       "[94671 rows x 4 columns]"
      ],
      "text/html": "<div>\n<style scoped>\n    .dataframe tbody tr th:only-of-type {\n        vertical-align: middle;\n    }\n\n    .dataframe tbody tr th {\n        vertical-align: top;\n    }\n\n    .dataframe thead th {\n        text-align: right;\n    }\n</style>\n<table border=\"1\" class=\"dataframe\">\n  <thead>\n    <tr style=\"text-align: right;\">\n      <th></th>\n      <th>Fecha</th>\n      <th>Emisora</th>\n      <th>Serie</th>\n      <th>Precio</th>\n    </tr>\n  </thead>\n  <tbody>\n    <tr>\n      <th>0</th>\n      <td>20161201</td>\n      <td>ACTICOB</td>\n      <td>A</td>\n      <td>27.662738</td>\n    </tr>\n    <tr>\n      <th>1</th>\n      <td>20161201</td>\n      <td>ACTICOB</td>\n      <td>B-1</td>\n      <td>25.630848</td>\n    </tr>\n    <tr>\n      <th>2</th>\n      <td>20161201</td>\n      <td>ACTICOB</td>\n      <td>B-2</td>\n      <td>26.208114</td>\n    </tr>\n    <tr>\n      <th>3</th>\n      <td>20161201</td>\n      <td>ACTICOB</td>\n      <td>B-3</td>\n      <td>26.840196</td>\n    </tr>\n    <tr>\n      <th>4</th>\n      <td>20161201</td>\n      <td>ACTICOB</td>\n      <td>E</td>\n      <td>28.032281</td>\n    </tr>\n    <tr>\n      <th>...</th>\n      <td>...</td>\n      <td>...</td>\n      <td>...</td>\n      <td>...</td>\n    </tr>\n    <tr>\n      <th>94666</th>\n      <td>20210329</td>\n      <td>SALUD</td>\n      <td>B</td>\n      <td>4.130376</td>\n    </tr>\n    <tr>\n      <th>94667</th>\n      <td>20210329</td>\n      <td>SALUD</td>\n      <td>C</td>\n      <td>0.000000</td>\n    </tr>\n    <tr>\n      <th>94668</th>\n      <td>20210329</td>\n      <td>SALUD</td>\n      <td>E</td>\n      <td>4.909916</td>\n    </tr>\n    <tr>\n      <th>94669</th>\n      <td>20210329</td>\n      <td>SALUD</td>\n      <td>FF</td>\n      <td>5.090870</td>\n    </tr>\n    <tr>\n      <th>94670</th>\n      <td>20210329</td>\n      <td>SALUD</td>\n      <td>M</td>\n      <td>4.138616</td>\n    </tr>\n  </tbody>\n</table>\n<p>94671 rows × 4 columns</p>\n</div>"
     },
     "metadata": {},
     "execution_count": 3
    }
   ],
   "source": [
    "precios"
   ]
  },
  {
   "cell_type": "code",
   "execution_count": 4,
   "metadata": {},
   "outputs": [
    {
     "output_type": "execute_result",
     "data": {
      "text/plain": [
       "          Fecha  Emisora Serie     Precio\n",
       "2      20161201  ACTICOB   B-2  26.208114\n",
       "14     20161201  ACTIGOB   B-2   3.982440\n",
       "26     20161201  ACTIMED   B-2   4.409726\n",
       "39     20161201  ACTIREN   B-2   7.491280\n",
       "51     20161201  ALTERNA   B-2   3.342991\n",
       "...         ...      ...   ...        ...\n",
       "87084  20200221  IMPULSA   B-2  40.235481\n",
       "87131  20200225  IMPULSA   B-2  40.232770\n",
       "87252  20200229  IMPULSA   B-2  40.109531\n",
       "87299  20200303  IMPULSA   B-2  40.228835\n",
       "91349  20200306  IMPULSA   B-2  40.306532\n",
       "\n",
       "[4194 rows x 4 columns]"
      ],
      "text/html": "<div>\n<style scoped>\n    .dataframe tbody tr th:only-of-type {\n        vertical-align: middle;\n    }\n\n    .dataframe tbody tr th {\n        vertical-align: top;\n    }\n\n    .dataframe thead th {\n        text-align: right;\n    }\n</style>\n<table border=\"1\" class=\"dataframe\">\n  <thead>\n    <tr style=\"text-align: right;\">\n      <th></th>\n      <th>Fecha</th>\n      <th>Emisora</th>\n      <th>Serie</th>\n      <th>Precio</th>\n    </tr>\n  </thead>\n  <tbody>\n    <tr>\n      <th>2</th>\n      <td>20161201</td>\n      <td>ACTICOB</td>\n      <td>B-2</td>\n      <td>26.208114</td>\n    </tr>\n    <tr>\n      <th>14</th>\n      <td>20161201</td>\n      <td>ACTIGOB</td>\n      <td>B-2</td>\n      <td>3.982440</td>\n    </tr>\n    <tr>\n      <th>26</th>\n      <td>20161201</td>\n      <td>ACTIMED</td>\n      <td>B-2</td>\n      <td>4.409726</td>\n    </tr>\n    <tr>\n      <th>39</th>\n      <td>20161201</td>\n      <td>ACTIREN</td>\n      <td>B-2</td>\n      <td>7.491280</td>\n    </tr>\n    <tr>\n      <th>51</th>\n      <td>20161201</td>\n      <td>ALTERNA</td>\n      <td>B-2</td>\n      <td>3.342991</td>\n    </tr>\n    <tr>\n      <th>...</th>\n      <td>...</td>\n      <td>...</td>\n      <td>...</td>\n      <td>...</td>\n    </tr>\n    <tr>\n      <th>87084</th>\n      <td>20200221</td>\n      <td>IMPULSA</td>\n      <td>B-2</td>\n      <td>40.235481</td>\n    </tr>\n    <tr>\n      <th>87131</th>\n      <td>20200225</td>\n      <td>IMPULSA</td>\n      <td>B-2</td>\n      <td>40.232770</td>\n    </tr>\n    <tr>\n      <th>87252</th>\n      <td>20200229</td>\n      <td>IMPULSA</td>\n      <td>B-2</td>\n      <td>40.109531</td>\n    </tr>\n    <tr>\n      <th>87299</th>\n      <td>20200303</td>\n      <td>IMPULSA</td>\n      <td>B-2</td>\n      <td>40.228835</td>\n    </tr>\n    <tr>\n      <th>91349</th>\n      <td>20200306</td>\n      <td>IMPULSA</td>\n      <td>B-2</td>\n      <td>40.306532</td>\n    </tr>\n  </tbody>\n</table>\n<p>4194 rows × 4 columns</p>\n</div>"
     },
     "metadata": {},
     "execution_count": 4
    }
   ],
   "source": [
    "precios_aux1 = precios[precios.Serie == \"B-2\"]\n",
    "precios_aux1\n"
   ]
  },
  {
   "cell_type": "code",
   "execution_count": 5,
   "metadata": {},
   "outputs": [
    {
     "output_type": "execute_result",
     "data": {
      "text/plain": [
       "          Fecha  Emisora Serie     Precio\n",
       "63     20161201  ACTI500    B2   3.653181\n",
       "80     20161201     MAYA    B2  32.029388\n",
       "86     20161214  ACTI500    B2   3.727571\n",
       "103    20161214     MAYA    B2  33.003517\n",
       "170    20161230  ACTI500    B2   3.762451\n",
       "...         ...      ...   ...        ...\n",
       "86208  20191213     MAYA    B2  31.985886\n",
       "86235  20191217     MAYA    B2  32.955200\n",
       "86292  20191224     MAYA    B2  32.873076\n",
       "86319  20200106     MAYA    B2  33.232250\n",
       "86367  20200108     MAYA    B2  32.832774\n",
       "\n",
       "[1756 rows x 4 columns]"
      ],
      "text/html": "<div>\n<style scoped>\n    .dataframe tbody tr th:only-of-type {\n        vertical-align: middle;\n    }\n\n    .dataframe tbody tr th {\n        vertical-align: top;\n    }\n\n    .dataframe thead th {\n        text-align: right;\n    }\n</style>\n<table border=\"1\" class=\"dataframe\">\n  <thead>\n    <tr style=\"text-align: right;\">\n      <th></th>\n      <th>Fecha</th>\n      <th>Emisora</th>\n      <th>Serie</th>\n      <th>Precio</th>\n    </tr>\n  </thead>\n  <tbody>\n    <tr>\n      <th>63</th>\n      <td>20161201</td>\n      <td>ACTI500</td>\n      <td>B2</td>\n      <td>3.653181</td>\n    </tr>\n    <tr>\n      <th>80</th>\n      <td>20161201</td>\n      <td>MAYA</td>\n      <td>B2</td>\n      <td>32.029388</td>\n    </tr>\n    <tr>\n      <th>86</th>\n      <td>20161214</td>\n      <td>ACTI500</td>\n      <td>B2</td>\n      <td>3.727571</td>\n    </tr>\n    <tr>\n      <th>103</th>\n      <td>20161214</td>\n      <td>MAYA</td>\n      <td>B2</td>\n      <td>33.003517</td>\n    </tr>\n    <tr>\n      <th>170</th>\n      <td>20161230</td>\n      <td>ACTI500</td>\n      <td>B2</td>\n      <td>3.762451</td>\n    </tr>\n    <tr>\n      <th>...</th>\n      <td>...</td>\n      <td>...</td>\n      <td>...</td>\n      <td>...</td>\n    </tr>\n    <tr>\n      <th>86208</th>\n      <td>20191213</td>\n      <td>MAYA</td>\n      <td>B2</td>\n      <td>31.985886</td>\n    </tr>\n    <tr>\n      <th>86235</th>\n      <td>20191217</td>\n      <td>MAYA</td>\n      <td>B2</td>\n      <td>32.955200</td>\n    </tr>\n    <tr>\n      <th>86292</th>\n      <td>20191224</td>\n      <td>MAYA</td>\n      <td>B2</td>\n      <td>32.873076</td>\n    </tr>\n    <tr>\n      <th>86319</th>\n      <td>20200106</td>\n      <td>MAYA</td>\n      <td>B2</td>\n      <td>33.232250</td>\n    </tr>\n    <tr>\n      <th>86367</th>\n      <td>20200108</td>\n      <td>MAYA</td>\n      <td>B2</td>\n      <td>32.832774</td>\n    </tr>\n  </tbody>\n</table>\n<p>1756 rows × 4 columns</p>\n</div>"
     },
     "metadata": {},
     "execution_count": 5
    }
   ],
   "source": [
    "precios_aux2 = precios[precios.Serie == \"B2\"]\n",
    "precios_aux2\n"
   ]
  },
  {
   "cell_type": "code",
   "execution_count": 6,
   "metadata": {},
   "outputs": [
    {
     "output_type": "execute_result",
     "data": {
      "text/plain": [
       "          Fecha  Emisora Serie     Precio\n",
       "2      20161201  ACTICOB   B-2  26.208114\n",
       "14     20161201  ACTIGOB   B-2   3.982440\n",
       "26     20161201  ACTIMED   B-2   4.409726\n",
       "39     20161201  ACTIREN   B-2   7.491280\n",
       "51     20161201  ALTERNA   B-2   3.342991\n",
       "...         ...      ...   ...        ...\n",
       "86208  20191213     MAYA    B2  31.985886\n",
       "86235  20191217     MAYA    B2  32.955200\n",
       "86292  20191224     MAYA    B2  32.873076\n",
       "86319  20200106     MAYA    B2  33.232250\n",
       "86367  20200108     MAYA    B2  32.832774\n",
       "\n",
       "[5950 rows x 4 columns]"
      ],
      "text/html": "<div>\n<style scoped>\n    .dataframe tbody tr th:only-of-type {\n        vertical-align: middle;\n    }\n\n    .dataframe tbody tr th {\n        vertical-align: top;\n    }\n\n    .dataframe thead th {\n        text-align: right;\n    }\n</style>\n<table border=\"1\" class=\"dataframe\">\n  <thead>\n    <tr style=\"text-align: right;\">\n      <th></th>\n      <th>Fecha</th>\n      <th>Emisora</th>\n      <th>Serie</th>\n      <th>Precio</th>\n    </tr>\n  </thead>\n  <tbody>\n    <tr>\n      <th>2</th>\n      <td>20161201</td>\n      <td>ACTICOB</td>\n      <td>B-2</td>\n      <td>26.208114</td>\n    </tr>\n    <tr>\n      <th>14</th>\n      <td>20161201</td>\n      <td>ACTIGOB</td>\n      <td>B-2</td>\n      <td>3.982440</td>\n    </tr>\n    <tr>\n      <th>26</th>\n      <td>20161201</td>\n      <td>ACTIMED</td>\n      <td>B-2</td>\n      <td>4.409726</td>\n    </tr>\n    <tr>\n      <th>39</th>\n      <td>20161201</td>\n      <td>ACTIREN</td>\n      <td>B-2</td>\n      <td>7.491280</td>\n    </tr>\n    <tr>\n      <th>51</th>\n      <td>20161201</td>\n      <td>ALTERNA</td>\n      <td>B-2</td>\n      <td>3.342991</td>\n    </tr>\n    <tr>\n      <th>...</th>\n      <td>...</td>\n      <td>...</td>\n      <td>...</td>\n      <td>...</td>\n    </tr>\n    <tr>\n      <th>86208</th>\n      <td>20191213</td>\n      <td>MAYA</td>\n      <td>B2</td>\n      <td>31.985886</td>\n    </tr>\n    <tr>\n      <th>86235</th>\n      <td>20191217</td>\n      <td>MAYA</td>\n      <td>B2</td>\n      <td>32.955200</td>\n    </tr>\n    <tr>\n      <th>86292</th>\n      <td>20191224</td>\n      <td>MAYA</td>\n      <td>B2</td>\n      <td>32.873076</td>\n    </tr>\n    <tr>\n      <th>86319</th>\n      <td>20200106</td>\n      <td>MAYA</td>\n      <td>B2</td>\n      <td>33.232250</td>\n    </tr>\n    <tr>\n      <th>86367</th>\n      <td>20200108</td>\n      <td>MAYA</td>\n      <td>B2</td>\n      <td>32.832774</td>\n    </tr>\n  </tbody>\n</table>\n<p>5950 rows × 4 columns</p>\n</div>"
     },
     "metadata": {},
     "execution_count": 6
    }
   ],
   "source": [
    "frames = [precios_aux1,precios_aux2]\n",
    "precios = pd.concat(frames)\n",
    "precios"
   ]
  },
  {
   "cell_type": "code",
   "execution_count": 7,
   "metadata": {},
   "outputs": [],
   "source": [
    "precios.to_csv('precios-B2.csv', index = False, header=True)"
   ]
  },
  {
   "cell_type": "code",
   "execution_count": 8,
   "metadata": {},
   "outputs": [],
   "source": [
    "#precios['Fecha'] = pd.to_datetime(precios['Fecha'], yearfirst=True)"
   ]
  },
  {
   "cell_type": "code",
   "execution_count": 12,
   "metadata": {},
   "outputs": [
    {
     "output_type": "execute_result",
     "data": {
      "text/plain": [
       "array(['ACTICOB', 'ACTIGOB', 'ACTIMED', 'ACTIREN', 'ALTERNA', 'IMPULSA',\n",
       "       'ACTI500', 'MAYA', 'ACTVIDA'], dtype=object)"
      ]
     },
     "metadata": {},
     "execution_count": 12
    }
   ],
   "source": [
    "emisoras = precios.Emisora.unique()\n",
    "emisoras"
   ]
  },
  {
   "cell_type": "code",
   "execution_count": 10,
   "metadata": {},
   "outputs": [
    {
     "output_type": "stream",
     "name": "stdout",
     "text": [
      "315 315\nHay fechas duplicadas en la siguiente emisora IMPULSA\n273 273\nHay fechas duplicadas en la siguiente emisora ACTVIDA\n"
     ]
    }
   ],
   "source": [
    "#precios.sort_values(by=[\"Emisora\"])\r\n",
    "\r\n",
    "\r\n",
    "for emisora in emisoras:\r\n",
    "\r\n",
    "    emisoraAuxiliar = precios[precios.Emisora == emisora]\r\n",
    "    #print(emisoraAuxiliar)\r\n",
    "    #print(emisoraAuxiliar.shape[0])\r\n",
    "    len = emisoraAuxiliar.shape[0]\r\n",
    "    len2 = emisoraAuxiliar.Fecha.unique().shape[0]\r\n",
    "    #print(len2)\r\n",
    "    if (len != (len2 + 1)):\r\n",
    "        print(len,len2)\r\n",
    "        print(\"Hay fechas duplicadas en la siguiente emisora\",emisora )\r\n"
   ]
  },
  {
   "source": [
    "Tenemos fechas duplicadas en la siguiente emisora IMPULSA, ACTVIDA  \n",
    "TODO. ELIMINAR DUPLICADOS."
   ],
   "cell_type": "markdown",
   "metadata": {}
  },
  {
   "cell_type": "code",
   "execution_count": null,
   "metadata": {},
   "outputs": [],
   "source": []
  }
 ]
}