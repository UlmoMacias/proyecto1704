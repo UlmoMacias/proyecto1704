{
 "metadata": {
  "language_info": {
   "codemirror_mode": {
    "name": "ipython",
    "version": 3
   },
   "file_extension": ".py",
   "mimetype": "text/x-python",
   "name": "python",
   "nbconvert_exporter": "python",
   "pygments_lexer": "ipython3",
   "version": "3.8.3"
  },
  "orig_nbformat": 2,
  "kernelspec": {
   "name": "python383jvsc74a57bd02db524e06e9f5f4ffedc911c917cb75e12dbc923643829bf417064a77eb14d37",
   "display_name": "Python 3.8.3 64-bit"
  }
 },
 "nbformat": 4,
 "nbformat_minor": 2,
 "cells": [
  {
   "cell_type": "code",
   "execution_count": 188,
   "metadata": {},
   "outputs": [],
   "source": [
    "import numpy as np\n",
    "import pandas as pd\n",
    "import random"
   ]
  },
  {
   "cell_type": "code",
   "execution_count": 25,
   "metadata": {},
   "outputs": [
    {
     "output_type": "execute_result",
     "data": {
      "text/plain": [
       "                            NIVEL MEJOR_RENDIMIENTO\n",
       "ID_CLIENTE                                         \n",
       "90001801    NIVEL 1NIVEL 2NIVEL 3         YesYesYes\n",
       "90001991    NIVEL 1NIVEL 2NIVEL 3         YesYesYes\n",
       "90002551    NIVEL 1NIVEL 2NIVEL 3         YesYesYes\n",
       "90002759    NIVEL 1NIVEL 2NIVEL 3         YesYesYes\n",
       "90002833    NIVEL 1NIVEL 2NIVEL 3         YesYesYes\n",
       "...                           ...               ...\n",
       "93120509    NIVEL 1NIVEL 2NIVEL 3         YesYesYes\n",
       "93120616    NIVEL 1NIVEL 2NIVEL 3         YesYesYes\n",
       "93120632    NIVEL 1NIVEL 2NIVEL 3         YesYesYes\n",
       "93120681    NIVEL 1NIVEL 2NIVEL 3         YesYesYes\n",
       "93120699    NIVEL 1NIVEL 2NIVEL 3         YesYesYes\n",
       "\n",
       "[11499 rows x 2 columns]"
      ],
      "text/html": "<div>\n<style scoped>\n    .dataframe tbody tr th:only-of-type {\n        vertical-align: middle;\n    }\n\n    .dataframe tbody tr th {\n        vertical-align: top;\n    }\n\n    .dataframe thead th {\n        text-align: right;\n    }\n</style>\n<table border=\"1\" class=\"dataframe\">\n  <thead>\n    <tr style=\"text-align: right;\">\n      <th></th>\n      <th>NIVEL</th>\n      <th>MEJOR_RENDIMIENTO</th>\n    </tr>\n    <tr>\n      <th>ID_CLIENTE</th>\n      <th></th>\n      <th></th>\n    </tr>\n  </thead>\n  <tbody>\n    <tr>\n      <th>90001801</th>\n      <td>NIVEL 1NIVEL 2NIVEL 3</td>\n      <td>YesYesYes</td>\n    </tr>\n    <tr>\n      <th>90001991</th>\n      <td>NIVEL 1NIVEL 2NIVEL 3</td>\n      <td>YesYesYes</td>\n    </tr>\n    <tr>\n      <th>90002551</th>\n      <td>NIVEL 1NIVEL 2NIVEL 3</td>\n      <td>YesYesYes</td>\n    </tr>\n    <tr>\n      <th>90002759</th>\n      <td>NIVEL 1NIVEL 2NIVEL 3</td>\n      <td>YesYesYes</td>\n    </tr>\n    <tr>\n      <th>90002833</th>\n      <td>NIVEL 1NIVEL 2NIVEL 3</td>\n      <td>YesYesYes</td>\n    </tr>\n    <tr>\n      <th>...</th>\n      <td>...</td>\n      <td>...</td>\n    </tr>\n    <tr>\n      <th>93120509</th>\n      <td>NIVEL 1NIVEL 2NIVEL 3</td>\n      <td>YesYesYes</td>\n    </tr>\n    <tr>\n      <th>93120616</th>\n      <td>NIVEL 1NIVEL 2NIVEL 3</td>\n      <td>YesYesYes</td>\n    </tr>\n    <tr>\n      <th>93120632</th>\n      <td>NIVEL 1NIVEL 2NIVEL 3</td>\n      <td>YesYesYes</td>\n    </tr>\n    <tr>\n      <th>93120681</th>\n      <td>NIVEL 1NIVEL 2NIVEL 3</td>\n      <td>YesYesYes</td>\n    </tr>\n    <tr>\n      <th>93120699</th>\n      <td>NIVEL 1NIVEL 2NIVEL 3</td>\n      <td>YesYesYes</td>\n    </tr>\n  </tbody>\n</table>\n<p>11499 rows × 2 columns</p>\n</div>"
     },
     "metadata": {},
     "execution_count": 25
    }
   ],
   "source": [
    "data = pd.read_csv(\"comparativo_niveles.csv\",sep=',', index_col=False)\n",
    "data = data.drop('id',axis=1)\n",
    "\n",
    "data = data[data[\"MEJOR_RENDIMIENTO\"] == \"Yes\"]\n",
    "\n",
    "x = data.groupby(data[\"ID_CLIENTE\"])\n",
    "data = x.sum()\n",
    "data"
   ]
  },
  {
   "cell_type": "code",
   "execution_count": 33,
   "metadata": {},
   "outputs": [
    {
     "output_type": "execute_result",
     "data": {
      "text/plain": [
       "                            NIVEL MEJOR_RENDIMIENTO\n",
       "ID_CLIENTE                                         \n",
       "90001801    NIVEL 1NIVEL 2NIVEL 3         YesYesYes\n",
       "90001991    NIVEL 1NIVEL 2NIVEL 3         YesYesYes\n",
       "90002551    NIVEL 1NIVEL 2NIVEL 3         YesYesYes\n",
       "90002759    NIVEL 1NIVEL 2NIVEL 3         YesYesYes\n",
       "90002833    NIVEL 1NIVEL 2NIVEL 3         YesYesYes\n",
       "...                           ...               ...\n",
       "93120509    NIVEL 1NIVEL 2NIVEL 3         YesYesYes\n",
       "93120616    NIVEL 1NIVEL 2NIVEL 3         YesYesYes\n",
       "93120632    NIVEL 1NIVEL 2NIVEL 3         YesYesYes\n",
       "93120681    NIVEL 1NIVEL 2NIVEL 3         YesYesYes\n",
       "93120699    NIVEL 1NIVEL 2NIVEL 3         YesYesYes\n",
       "\n",
       "[11202 rows x 2 columns]"
      ],
      "text/html": "<div>\n<style scoped>\n    .dataframe tbody tr th:only-of-type {\n        vertical-align: middle;\n    }\n\n    .dataframe tbody tr th {\n        vertical-align: top;\n    }\n\n    .dataframe thead th {\n        text-align: right;\n    }\n</style>\n<table border=\"1\" class=\"dataframe\">\n  <thead>\n    <tr style=\"text-align: right;\">\n      <th></th>\n      <th>NIVEL</th>\n      <th>MEJOR_RENDIMIENTO</th>\n    </tr>\n    <tr>\n      <th>ID_CLIENTE</th>\n      <th></th>\n      <th></th>\n    </tr>\n  </thead>\n  <tbody>\n    <tr>\n      <th>90001801</th>\n      <td>NIVEL 1NIVEL 2NIVEL 3</td>\n      <td>YesYesYes</td>\n    </tr>\n    <tr>\n      <th>90001991</th>\n      <td>NIVEL 1NIVEL 2NIVEL 3</td>\n      <td>YesYesYes</td>\n    </tr>\n    <tr>\n      <th>90002551</th>\n      <td>NIVEL 1NIVEL 2NIVEL 3</td>\n      <td>YesYesYes</td>\n    </tr>\n    <tr>\n      <th>90002759</th>\n      <td>NIVEL 1NIVEL 2NIVEL 3</td>\n      <td>YesYesYes</td>\n    </tr>\n    <tr>\n      <th>90002833</th>\n      <td>NIVEL 1NIVEL 2NIVEL 3</td>\n      <td>YesYesYes</td>\n    </tr>\n    <tr>\n      <th>...</th>\n      <td>...</td>\n      <td>...</td>\n    </tr>\n    <tr>\n      <th>93120509</th>\n      <td>NIVEL 1NIVEL 2NIVEL 3</td>\n      <td>YesYesYes</td>\n    </tr>\n    <tr>\n      <th>93120616</th>\n      <td>NIVEL 1NIVEL 2NIVEL 3</td>\n      <td>YesYesYes</td>\n    </tr>\n    <tr>\n      <th>93120632</th>\n      <td>NIVEL 1NIVEL 2NIVEL 3</td>\n      <td>YesYesYes</td>\n    </tr>\n    <tr>\n      <th>93120681</th>\n      <td>NIVEL 1NIVEL 2NIVEL 3</td>\n      <td>YesYesYes</td>\n    </tr>\n    <tr>\n      <th>93120699</th>\n      <td>NIVEL 1NIVEL 2NIVEL 3</td>\n      <td>YesYesYes</td>\n    </tr>\n  </tbody>\n</table>\n<p>11202 rows × 2 columns</p>\n</div>"
     },
     "metadata": {},
     "execution_count": 33
    }
   ],
   "source": [
    "data2 = data[data[\"MEJOR_RENDIMIENTO\"] == \"YesYesYes\"]\n",
    "data2"
   ]
  },
  {
   "cell_type": "code",
   "execution_count": 56,
   "metadata": {},
   "outputs": [
    {
     "output_type": "execute_result",
     "data": {
      "text/plain": [
       "      BP_Único_y/o_Repetido  CLAVE_CLIENTE   CATEGORIA_PRODUCTO  \\\n",
       "0                     Único       90000175      FONDOS DE DEUDA   \n",
       "1                  Repetido       90001470      FONDOS DE DEUDA   \n",
       "2                  Repetido       90001801      FONDOS DE DEUDA   \n",
       "3                  Repetido       90001991  FONDOS DE COBERTURA   \n",
       "4                  Repetido       90001991       RENTA VARIABLE   \n",
       "...                     ...            ...                  ...   \n",
       "41453              Repetido       97509467      FONDOS DE DEUDA   \n",
       "41454              Repetido       97509483      FONDOS DE DEUDA   \n",
       "41455              Repetido       97509608      FONDOS DE DEUDA   \n",
       "41456              Repetido       97516819      FONDOS DE DEUDA   \n",
       "41457              Repetido       97523534      FONDOS DE DEUDA   \n",
       "\n",
       "                                        DETALLE_PRODUCTO  \\\n",
       "0       ACTIRENT, S.A. DE C.V. SOC INV DE INSTR DE DEUDA   \n",
       "1       ACTIRENT, S.A. DE C.V. SOC INV DE INSTR DE DEUDA   \n",
       "2       ACTIGOBER, S.A. DE C.V. SOC INV INSTRUM DE DEUDA   \n",
       "3                                              ACTICOB B   \n",
       "4      FONDO MAYA,S.A DE C.V.,SOC. DE INV. DE RENTA V...   \n",
       "...                                                  ...   \n",
       "41453  ACTIMED, S.A. DE C.V SOC DE INV EN INSTR DE DEUDA   \n",
       "41454   ACTIGOBER, S.A. DE C.V. SOC INV INSTRUM DE DEUDA   \n",
       "41455  ACTIMED, S.A. DE C.V SOC DE INV EN INSTR DE DEUDA   \n",
       "41456  ACTIMED, S.A. DE C.V SOC DE INV EN INSTR DE DEUDA   \n",
       "41457  ACTIMED, S.A. DE C.V SOC DE INV EN INSTR DE DEUDA   \n",
       "\n",
       "      POSICION_CUENTA_FECHA_TRANS  \n",
       "0                        202,017   \n",
       "1                          3,643   \n",
       "2                        133,605   \n",
       "3                            897   \n",
       "4                        265,258   \n",
       "...                           ...  \n",
       "41453                     45,010   \n",
       "41454                      4,498   \n",
       "41455                     49,999   \n",
       "41456                     49,999   \n",
       "41457                    199,997   \n",
       "\n",
       "[41458 rows x 5 columns]"
      ],
      "text/html": "<div>\n<style scoped>\n    .dataframe tbody tr th:only-of-type {\n        vertical-align: middle;\n    }\n\n    .dataframe tbody tr th {\n        vertical-align: top;\n    }\n\n    .dataframe thead th {\n        text-align: right;\n    }\n</style>\n<table border=\"1\" class=\"dataframe\">\n  <thead>\n    <tr style=\"text-align: right;\">\n      <th></th>\n      <th>BP_Único_y/o_Repetido</th>\n      <th>CLAVE_CLIENTE</th>\n      <th>CATEGORIA_PRODUCTO</th>\n      <th>DETALLE_PRODUCTO</th>\n      <th>POSICION_CUENTA_FECHA_TRANS</th>\n    </tr>\n  </thead>\n  <tbody>\n    <tr>\n      <th>0</th>\n      <td>Único</td>\n      <td>90000175</td>\n      <td>FONDOS DE DEUDA</td>\n      <td>ACTIRENT, S.A. DE C.V. SOC INV DE INSTR DE DEUDA</td>\n      <td>202,017</td>\n    </tr>\n    <tr>\n      <th>1</th>\n      <td>Repetido</td>\n      <td>90001470</td>\n      <td>FONDOS DE DEUDA</td>\n      <td>ACTIRENT, S.A. DE C.V. SOC INV DE INSTR DE DEUDA</td>\n      <td>3,643</td>\n    </tr>\n    <tr>\n      <th>2</th>\n      <td>Repetido</td>\n      <td>90001801</td>\n      <td>FONDOS DE DEUDA</td>\n      <td>ACTIGOBER, S.A. DE C.V. SOC INV INSTRUM DE DEUDA</td>\n      <td>133,605</td>\n    </tr>\n    <tr>\n      <th>3</th>\n      <td>Repetido</td>\n      <td>90001991</td>\n      <td>FONDOS DE COBERTURA</td>\n      <td>ACTICOB B</td>\n      <td>897</td>\n    </tr>\n    <tr>\n      <th>4</th>\n      <td>Repetido</td>\n      <td>90001991</td>\n      <td>RENTA VARIABLE</td>\n      <td>FONDO MAYA,S.A DE C.V.,SOC. DE INV. DE RENTA V...</td>\n      <td>265,258</td>\n    </tr>\n    <tr>\n      <th>...</th>\n      <td>...</td>\n      <td>...</td>\n      <td>...</td>\n      <td>...</td>\n      <td>...</td>\n    </tr>\n    <tr>\n      <th>41453</th>\n      <td>Repetido</td>\n      <td>97509467</td>\n      <td>FONDOS DE DEUDA</td>\n      <td>ACTIMED, S.A. DE C.V SOC DE INV EN INSTR DE DEUDA</td>\n      <td>45,010</td>\n    </tr>\n    <tr>\n      <th>41454</th>\n      <td>Repetido</td>\n      <td>97509483</td>\n      <td>FONDOS DE DEUDA</td>\n      <td>ACTIGOBER, S.A. DE C.V. SOC INV INSTRUM DE DEUDA</td>\n      <td>4,498</td>\n    </tr>\n    <tr>\n      <th>41455</th>\n      <td>Repetido</td>\n      <td>97509608</td>\n      <td>FONDOS DE DEUDA</td>\n      <td>ACTIMED, S.A. DE C.V SOC DE INV EN INSTR DE DEUDA</td>\n      <td>49,999</td>\n    </tr>\n    <tr>\n      <th>41456</th>\n      <td>Repetido</td>\n      <td>97516819</td>\n      <td>FONDOS DE DEUDA</td>\n      <td>ACTIMED, S.A. DE C.V SOC DE INV EN INSTR DE DEUDA</td>\n      <td>49,999</td>\n    </tr>\n    <tr>\n      <th>41457</th>\n      <td>Repetido</td>\n      <td>97523534</td>\n      <td>FONDOS DE DEUDA</td>\n      <td>ACTIMED, S.A. DE C.V SOC DE INV EN INSTR DE DEUDA</td>\n      <td>199,997</td>\n    </tr>\n  </tbody>\n</table>\n<p>41458 rows × 5 columns</p>\n</div>"
     },
     "metadata": {},
     "execution_count": 56
    }
   ],
   "source": [
    "clientes = pd.read_csv(\"clientes.csv\",sep=',')\n",
    "clientes"
   ]
  },
  {
   "cell_type": "code",
   "execution_count": 41,
   "metadata": {},
   "outputs": [
    {
     "output_type": "execute_result",
     "data": {
      "text/plain": [
       "array([90001801, 90001991, 90002551, ..., 93120632, 93120681, 93120699],\n",
       "      dtype=int64)"
      ]
     },
     "metadata": {},
     "execution_count": 41
    }
   ],
   "source": [
    "listaclientes = data2.index.values\n",
    "listaclientes"
   ]
  },
  {
   "cell_type": "code",
   "execution_count": 59,
   "metadata": {},
   "outputs": [
    {
     "output_type": "execute_result",
     "data": {
      "text/plain": [
       "0        False\n",
       "1        False\n",
       "2         True\n",
       "3         True\n",
       "4         True\n",
       "         ...  \n",
       "41453    False\n",
       "41454    False\n",
       "41455    False\n",
       "41456    False\n",
       "41457    False\n",
       "Length: 41458, dtype: bool"
      ]
     },
     "metadata": {},
     "execution_count": 59
    }
   ],
   "source": [
    "clientes.isin(listaclientes).any(axis=1)"
   ]
  },
  {
   "cell_type": "code",
   "execution_count": 60,
   "metadata": {},
   "outputs": [],
   "source": [
    "clientes = clientes[clientes.isin(listaclientes).any(axis=1)]"
   ]
  },
  {
   "cell_type": "code",
   "execution_count": 62,
   "metadata": {},
   "outputs": [],
   "source": [
    "def detalle_parser(detalle_producto):\n",
    "    if \"ACTIGOB\" in detalle_producto:\n",
    "        return \"ACTIGOB\"\n",
    "    if \"ACTIMED\" in detalle_producto:\n",
    "        return \"ACTIMED\"\n",
    "    if \"ACTIREN\" in detalle_producto:\n",
    "        return \"ACTIREN\"\n",
    "    if \"ALTERNA\" in detalle_producto:\n",
    "        return \"ALTERNA\"\n",
    "    if \"ACTVIDA\" in detalle_producto:\n",
    "        return \"ACTVIDA\"\n",
    "    if \"IMPULSA\" in detalle_producto:\n",
    "        return \"IMPULSA\"\n",
    "    if \"MAYA\" in detalle_producto:\n",
    "        return \"MAYA\"\n",
    "    if \"ACTICOB\" in detalle_producto:\n",
    "        return \"ACTICOB\"\n",
    "    if \"ACTI500\" in detalle_producto:\n",
    "        return \"ACTI500\"\n"
   ]
  },
  {
   "source": [
    "clientes[\"DETALLE_PRODUCTO\"] = [detalle_parser(x) for x in clientes[\"DETALLE_PRODUCTO\"]]\n",
    "clientes"
   ],
   "cell_type": "code",
   "metadata": {},
   "execution_count": 66,
   "outputs": [
    {
     "output_type": "stream",
     "name": "stderr",
     "text": [
      "<ipython-input-66-e63aaf1f09cf>:1: SettingWithCopyWarning: \nA value is trying to be set on a copy of a slice from a DataFrame.\nTry using .loc[row_indexer,col_indexer] = value instead\n\nSee the caveats in the documentation: https://pandas.pydata.org/pandas-docs/stable/user_guide/indexing.html#returning-a-view-versus-a-copy\n  clientes[\"DETALLE_PRODUCTO\"] = [detalle_parser(x) for x in clientes[\"DETALLE_PRODUCTO\"]]\n"
     ]
    },
    {
     "output_type": "execute_result",
     "data": {
      "text/plain": [
       "      BP_Único_y/o_Repetido  CLAVE_CLIENTE   CATEGORIA_PRODUCTO  \\\n",
       "2                  Repetido       90001801      FONDOS DE DEUDA   \n",
       "3                  Repetido       90001991  FONDOS DE COBERTURA   \n",
       "4                  Repetido       90001991       RENTA VARIABLE   \n",
       "5                  Repetido       90001991      FONDOS DE DEUDA   \n",
       "10                 Repetido       90002551      FONDOS DE DEUDA   \n",
       "...                     ...            ...                  ...   \n",
       "19994              Repetido       93120616      FONDOS DE DEUDA   \n",
       "19995              Repetido       93120632      FONDOS DE DEUDA   \n",
       "19996              Repetido       93120681      FONDOS DE DEUDA   \n",
       "19997              Repetido       93120699      FONDOS DE DEUDA   \n",
       "19998              Repetido       93120699      FONDOS DE DEUDA   \n",
       "\n",
       "      DETALLE_PRODUCTO POSICION_CUENTA_FECHA_TRANS  \n",
       "2              ACTIGOB                    133,605   \n",
       "3              ACTICOB                        897   \n",
       "4                 MAYA                    265,258   \n",
       "5              ACTIREN                         10   \n",
       "10             ACTIMED                    260,975   \n",
       "...                ...                         ...  \n",
       "19994          ACTIMED                     32,665   \n",
       "19995          ACTIMED                      4,089   \n",
       "19996          ACTIMED                    208,435   \n",
       "19997          ACTIREN                     10,002   \n",
       "19998          ACTIMED                    195,971   \n",
       "\n",
       "[13371 rows x 5 columns]"
      ],
      "text/html": "<div>\n<style scoped>\n    .dataframe tbody tr th:only-of-type {\n        vertical-align: middle;\n    }\n\n    .dataframe tbody tr th {\n        vertical-align: top;\n    }\n\n    .dataframe thead th {\n        text-align: right;\n    }\n</style>\n<table border=\"1\" class=\"dataframe\">\n  <thead>\n    <tr style=\"text-align: right;\">\n      <th></th>\n      <th>BP_Único_y/o_Repetido</th>\n      <th>CLAVE_CLIENTE</th>\n      <th>CATEGORIA_PRODUCTO</th>\n      <th>DETALLE_PRODUCTO</th>\n      <th>POSICION_CUENTA_FECHA_TRANS</th>\n    </tr>\n  </thead>\n  <tbody>\n    <tr>\n      <th>2</th>\n      <td>Repetido</td>\n      <td>90001801</td>\n      <td>FONDOS DE DEUDA</td>\n      <td>ACTIGOB</td>\n      <td>133,605</td>\n    </tr>\n    <tr>\n      <th>3</th>\n      <td>Repetido</td>\n      <td>90001991</td>\n      <td>FONDOS DE COBERTURA</td>\n      <td>ACTICOB</td>\n      <td>897</td>\n    </tr>\n    <tr>\n      <th>4</th>\n      <td>Repetido</td>\n      <td>90001991</td>\n      <td>RENTA VARIABLE</td>\n      <td>MAYA</td>\n      <td>265,258</td>\n    </tr>\n    <tr>\n      <th>5</th>\n      <td>Repetido</td>\n      <td>90001991</td>\n      <td>FONDOS DE DEUDA</td>\n      <td>ACTIREN</td>\n      <td>10</td>\n    </tr>\n    <tr>\n      <th>10</th>\n      <td>Repetido</td>\n      <td>90002551</td>\n      <td>FONDOS DE DEUDA</td>\n      <td>ACTIMED</td>\n      <td>260,975</td>\n    </tr>\n    <tr>\n      <th>...</th>\n      <td>...</td>\n      <td>...</td>\n      <td>...</td>\n      <td>...</td>\n      <td>...</td>\n    </tr>\n    <tr>\n      <th>19994</th>\n      <td>Repetido</td>\n      <td>93120616</td>\n      <td>FONDOS DE DEUDA</td>\n      <td>ACTIMED</td>\n      <td>32,665</td>\n    </tr>\n    <tr>\n      <th>19995</th>\n      <td>Repetido</td>\n      <td>93120632</td>\n      <td>FONDOS DE DEUDA</td>\n      <td>ACTIMED</td>\n      <td>4,089</td>\n    </tr>\n    <tr>\n      <th>19996</th>\n      <td>Repetido</td>\n      <td>93120681</td>\n      <td>FONDOS DE DEUDA</td>\n      <td>ACTIMED</td>\n      <td>208,435</td>\n    </tr>\n    <tr>\n      <th>19997</th>\n      <td>Repetido</td>\n      <td>93120699</td>\n      <td>FONDOS DE DEUDA</td>\n      <td>ACTIREN</td>\n      <td>10,002</td>\n    </tr>\n    <tr>\n      <th>19998</th>\n      <td>Repetido</td>\n      <td>93120699</td>\n      <td>FONDOS DE DEUDA</td>\n      <td>ACTIMED</td>\n      <td>195,971</td>\n    </tr>\n  </tbody>\n</table>\n<p>13371 rows × 5 columns</p>\n</div>"
     },
     "metadata": {},
     "execution_count": 66
    }
   ]
  },
  {
   "cell_type": "code",
   "execution_count": 70,
   "metadata": {},
   "outputs": [
    {
     "output_type": "execute_result",
     "data": {
      "text/plain": [
       "       CLAVE_CLIENTE DETALLE_PRODUCTO POSICION_CUENTA_FECHA_TRANS\n",
       "2           90001801          ACTIGOB                    133,605 \n",
       "3           90001991          ACTICOB                        897 \n",
       "4           90001991             MAYA                    265,258 \n",
       "5           90001991          ACTIREN                         10 \n",
       "10          90002551          ACTIMED                    260,975 \n",
       "...              ...              ...                         ...\n",
       "19994       93120616          ACTIMED                     32,665 \n",
       "19995       93120632          ACTIMED                      4,089 \n",
       "19996       93120681          ACTIMED                    208,435 \n",
       "19997       93120699          ACTIREN                     10,002 \n",
       "19998       93120699          ACTIMED                    195,971 \n",
       "\n",
       "[13371 rows x 3 columns]"
      ],
      "text/html": "<div>\n<style scoped>\n    .dataframe tbody tr th:only-of-type {\n        vertical-align: middle;\n    }\n\n    .dataframe tbody tr th {\n        vertical-align: top;\n    }\n\n    .dataframe thead th {\n        text-align: right;\n    }\n</style>\n<table border=\"1\" class=\"dataframe\">\n  <thead>\n    <tr style=\"text-align: right;\">\n      <th></th>\n      <th>CLAVE_CLIENTE</th>\n      <th>DETALLE_PRODUCTO</th>\n      <th>POSICION_CUENTA_FECHA_TRANS</th>\n    </tr>\n  </thead>\n  <tbody>\n    <tr>\n      <th>2</th>\n      <td>90001801</td>\n      <td>ACTIGOB</td>\n      <td>133,605</td>\n    </tr>\n    <tr>\n      <th>3</th>\n      <td>90001991</td>\n      <td>ACTICOB</td>\n      <td>897</td>\n    </tr>\n    <tr>\n      <th>4</th>\n      <td>90001991</td>\n      <td>MAYA</td>\n      <td>265,258</td>\n    </tr>\n    <tr>\n      <th>5</th>\n      <td>90001991</td>\n      <td>ACTIREN</td>\n      <td>10</td>\n    </tr>\n    <tr>\n      <th>10</th>\n      <td>90002551</td>\n      <td>ACTIMED</td>\n      <td>260,975</td>\n    </tr>\n    <tr>\n      <th>...</th>\n      <td>...</td>\n      <td>...</td>\n      <td>...</td>\n    </tr>\n    <tr>\n      <th>19994</th>\n      <td>93120616</td>\n      <td>ACTIMED</td>\n      <td>32,665</td>\n    </tr>\n    <tr>\n      <th>19995</th>\n      <td>93120632</td>\n      <td>ACTIMED</td>\n      <td>4,089</td>\n    </tr>\n    <tr>\n      <th>19996</th>\n      <td>93120681</td>\n      <td>ACTIMED</td>\n      <td>208,435</td>\n    </tr>\n    <tr>\n      <th>19997</th>\n      <td>93120699</td>\n      <td>ACTIREN</td>\n      <td>10,002</td>\n    </tr>\n    <tr>\n      <th>19998</th>\n      <td>93120699</td>\n      <td>ACTIMED</td>\n      <td>195,971</td>\n    </tr>\n  </tbody>\n</table>\n<p>13371 rows × 3 columns</p>\n</div>"
     },
     "metadata": {},
     "execution_count": 70
    }
   ],
   "source": [
    "clientes = clientes.drop('BP_Único_y/o_Repetido', axis=1)\n",
    "clientes = clientes.drop('CATEGORIA_PRODUCTO', axis=1)\n",
    "clientes"
   ]
  },
  {
   "cell_type": "code",
   "execution_count": 71,
   "metadata": {},
   "outputs": [
    {
     "output_type": "execute_result",
     "data": {
      "text/plain": [
       "       CLAVE_CLIENTE DETALLE_PRODUCTO POSICION_CUENTA_FECHA_TRANS\n",
       "2           90001801          ACTIGOB                    133,605 \n",
       "3           90001991          ACTICOB                        897 \n",
       "4           90001991             MAYA                    265,258 \n",
       "5           90001991          ACTIREN                         10 \n",
       "10          90002551          ACTIMED                    260,975 \n",
       "...              ...              ...                         ...\n",
       "19994       93120616          ACTIMED                     32,665 \n",
       "19995       93120632          ACTIMED                      4,089 \n",
       "19996       93120681          ACTIMED                    208,435 \n",
       "19997       93120699          ACTIREN                     10,002 \n",
       "19998       93120699          ACTIMED                    195,971 \n",
       "\n",
       "[13371 rows x 3 columns]"
      ],
      "text/html": "<div>\n<style scoped>\n    .dataframe tbody tr th:only-of-type {\n        vertical-align: middle;\n    }\n\n    .dataframe tbody tr th {\n        vertical-align: top;\n    }\n\n    .dataframe thead th {\n        text-align: right;\n    }\n</style>\n<table border=\"1\" class=\"dataframe\">\n  <thead>\n    <tr style=\"text-align: right;\">\n      <th></th>\n      <th>CLAVE_CLIENTE</th>\n      <th>DETALLE_PRODUCTO</th>\n      <th>POSICION_CUENTA_FECHA_TRANS</th>\n    </tr>\n  </thead>\n  <tbody>\n    <tr>\n      <th>2</th>\n      <td>90001801</td>\n      <td>ACTIGOB</td>\n      <td>133,605</td>\n    </tr>\n    <tr>\n      <th>3</th>\n      <td>90001991</td>\n      <td>ACTICOB</td>\n      <td>897</td>\n    </tr>\n    <tr>\n      <th>4</th>\n      <td>90001991</td>\n      <td>MAYA</td>\n      <td>265,258</td>\n    </tr>\n    <tr>\n      <th>5</th>\n      <td>90001991</td>\n      <td>ACTIREN</td>\n      <td>10</td>\n    </tr>\n    <tr>\n      <th>10</th>\n      <td>90002551</td>\n      <td>ACTIMED</td>\n      <td>260,975</td>\n    </tr>\n    <tr>\n      <th>...</th>\n      <td>...</td>\n      <td>...</td>\n      <td>...</td>\n    </tr>\n    <tr>\n      <th>19994</th>\n      <td>93120616</td>\n      <td>ACTIMED</td>\n      <td>32,665</td>\n    </tr>\n    <tr>\n      <th>19995</th>\n      <td>93120632</td>\n      <td>ACTIMED</td>\n      <td>4,089</td>\n    </tr>\n    <tr>\n      <th>19996</th>\n      <td>93120681</td>\n      <td>ACTIMED</td>\n      <td>208,435</td>\n    </tr>\n    <tr>\n      <th>19997</th>\n      <td>93120699</td>\n      <td>ACTIREN</td>\n      <td>10,002</td>\n    </tr>\n    <tr>\n      <th>19998</th>\n      <td>93120699</td>\n      <td>ACTIMED</td>\n      <td>195,971</td>\n    </tr>\n  </tbody>\n</table>\n<p>13371 rows × 3 columns</p>\n</div>"
     },
     "metadata": {},
     "execution_count": 71
    }
   ],
   "source": [
    "clientes"
   ]
  },
  {
   "cell_type": "code",
   "execution_count": 177,
   "metadata": {},
   "outputs": [],
   "source": [
    "#Recibe un DF con los precios y devuleve el retorno medio anual\n",
    "def in_return_cov(df): \n",
    "    price = df.copy()\n",
    "    price = (price / price.shift(1)) -1\n",
    "    price.iloc[0,:] = 0 # Primeira linha = 0     \n",
    "    \n",
    "    returns = np.matrix(price)\n",
    "    mean_returns = np.mean(returns, axis = 0)\n",
    "    \n",
    "    annual_returns = np.array([])\n",
    "    for i in range(len(np.transpose(mean_returns))):\n",
    "        annual_returns = np.append(annual_returns,(mean_returns[0,i]+1)**252-1)   \n",
    "    \n",
    "    cov = price.cov()*252\n",
    "    \n",
    "    return (annual_returns, np.matrix(cov))\n",
    "\n",
    "#Carga la tabla de precios\n",
    "def load_prices(symbol,index,start_date,end_date):\n",
    "    \n",
    "    dates = pd.date_range(start_date, end_date)\n",
    "    dfBase = pd.DataFrame(index = dates)\n",
    "    path = \"data/{}.csv\"\n",
    "    \n",
    "    dfIndex = pd.read_csv(path.format(index),index_col = \"Date\",\n",
    "                          parse_dates = True,usecols = ['Date', 'Adj Close'], na_values=['nan'])\n",
    "    \n",
    "    dfIndex = dfIndex.dropna()\n",
    "    dfIndex = dfIndex.rename(columns={'Adj Close': '{}'.format(index)})\n",
    "    dfBase = dfBase.join(dfIndex, how = 'inner')\n",
    "    \n",
    "    \n",
    "    for symbol in symbols:\n",
    "        df_temp = pd.read_csv(path.format(symbol), index_col = \"Fecha\", parse_dates = True,\n",
    "                              usecols = ['Fecha', 'Precio'], na_values=['nan'])\n",
    "        df_temp = df_temp.rename(columns={'Precio': symbol})\n",
    "        dfBase = dfBase.join(df_temp)\n",
    "    \n",
    "    dfBase.fillna(method = \"ffill\", inplace = True)\n",
    "    dfBase.fillna(method = \"bfill\", inplace = True)\n",
    "    \n",
    "    return dfBase.drop('MXX',axis = 1)\n",
    "\n",
    "#Calcula el retorno de un portafolio de activos\n",
    "def port_return(W,r):\n",
    "    return sum(W*r)\n",
    "\n",
    "#Calcula el peso inicial del portafolio dado el tamaños de la bolsa\n",
    "def mkt_weights(weights):\n",
    "    return np.array(weights) / sum(weights)\n",
    "\n",
    "def risk_return(W,S,r,rf=0.06):\n",
    "    var = np.dot(np.dot(W,S),np.transpose(W))\n",
    "    port_r = port_return(W,r)\n",
    "    x = (port_r - rf) / var\n",
    "    return x.item(0)\n",
    "\n",
    "#Calcula la matriz del retorno implicito\n",
    "def vector_equilibrium_return(S, W, r ):\n",
    "    \n",
    "    A = risk_return(W,S,r)\n",
    "    \n",
    "    return (np.dot(A,np.dot(S,W)))\n",
    "\n",
    "def diago_omega(t, P, S):\n",
    "    \n",
    "    omega = np.dot(t,np.dot(P,np.dot(S,np.transpose(P))))\n",
    "    \n",
    "    for i in range(len(omega)):\n",
    "        for y in range(len(omega)):\n",
    "            if i != y: omega[i,y] = 0\n",
    "    return omega\n",
    "    \n",
    "#Black Litterman Model\n",
    "def posterior_estimate_return(t,S,P,Q,PI):\n",
    "    \n",
    "    omega = diago_omega(t, P, S)\n",
    "    \n",
    "    parte_1 = t*np.dot(S,np.transpose(P))\n",
    "    parte_2 = np.linalg.inv(np.dot(P*t,np.dot(S,np.transpose(P))) + omega)\n",
    "    parte_3 = Q - np.dot(P,np.transpose(PI))\n",
    "    \n",
    "    return np.transpose(PI) + np.dot(parte_1,np.dot(parte_2,parte_3))\n",
    "\n",
    "\n",
    "def posterior_covariance(t,S,P,PI):\n",
    "    \n",
    "    omega = diago_omega(t, P, S)\n",
    "    \n",
    "    parte_1 = t*np.dot(S,np.transpose(P))\n",
    "    parte_2 = np.linalg.inv(t*np.dot(P,np.dot(S,np.transpose(P)))+omega)\n",
    "    parte_3 = t*np.dot(P,S)\n",
    "\n",
    "    return t*S - np.dot(parte_1,np.dot(parte_2,parte_3))"
   ]
  },
  {
   "cell_type": "code",
   "execution_count": 74,
   "metadata": {},
   "outputs": [
    {
     "output_type": "execute_result",
     "data": {
      "text/plain": [
       "11202"
      ]
     },
     "metadata": {},
     "execution_count": 74
    }
   ],
   "source": [
    "claves_unicas= clientes.CLAVE_CLIENTE.unique()\n",
    "len(claves_unicas)"
   ]
  },
  {
   "cell_type": "code",
   "execution_count": 212,
   "metadata": {
    "tags": []
   },
   "outputs": [
    {
     "output_type": "error",
     "ename": "ValueError",
     "evalue": "columns overlap but no suffix specified: Index(['ACTIMED'], dtype='object')",
     "traceback": [
      "\u001b[1;31m---------------------------------------------------------------------------\u001b[0m",
      "\u001b[1;31mValueError\u001b[0m                                Traceback (most recent call last)",
      "\u001b[1;32m<ipython-input-212-2f2dac2c4925>\u001b[0m in \u001b[0;36m<module>\u001b[1;34m\u001b[0m\n\u001b[0;32m     11\u001b[0m \u001b[1;33m\u001b[0m\u001b[0m\n\u001b[0;32m     12\u001b[0m     \u001b[0mweights\u001b[0m \u001b[1;33m=\u001b[0m \u001b[0maux\u001b[0m\u001b[1;33m.\u001b[0m\u001b[0mPOSICION_CUENTA_FECHA_TRANS\u001b[0m\u001b[1;33m.\u001b[0m\u001b[0mvalues\u001b[0m\u001b[1;33m\u001b[0m\u001b[1;33m\u001b[0m\u001b[0m\n\u001b[1;32m---> 13\u001b[1;33m     \u001b[0mprecios\u001b[0m \u001b[1;33m=\u001b[0m \u001b[0mload_prices\u001b[0m\u001b[1;33m(\u001b[0m\u001b[0msymbols\u001b[0m\u001b[1;33m,\u001b[0m\u001b[1;34m\"MXX\"\u001b[0m\u001b[1;33m,\u001b[0m \u001b[1;34m\"2016-12-01\"\u001b[0m\u001b[1;33m,\u001b[0m \u001b[1;34m\"2019-08-26\"\u001b[0m\u001b[1;33m)\u001b[0m\u001b[1;33m\u001b[0m\u001b[1;33m\u001b[0m\u001b[0m\n\u001b[0m\u001b[0;32m     14\u001b[0m \u001b[1;33m\u001b[0m\u001b[0m\n\u001b[0;32m     15\u001b[0m     \u001b[0massets_return\u001b[0m \u001b[1;33m,\u001b[0m \u001b[0mS\u001b[0m \u001b[1;33m=\u001b[0m \u001b[0min_return_cov\u001b[0m\u001b[1;33m(\u001b[0m\u001b[0mprecios\u001b[0m\u001b[1;33m)\u001b[0m\u001b[1;33m\u001b[0m\u001b[1;33m\u001b[0m\u001b[0m\n",
      "\u001b[1;32m<ipython-input-177-d71c22439406>\u001b[0m in \u001b[0;36mload_prices\u001b[1;34m(symbol, index, start_date, end_date)\u001b[0m\n\u001b[0;32m     35\u001b[0m                               usecols = ['Fecha', 'Precio'], na_values=['nan'])\n\u001b[0;32m     36\u001b[0m         \u001b[0mdf_temp\u001b[0m \u001b[1;33m=\u001b[0m \u001b[0mdf_temp\u001b[0m\u001b[1;33m.\u001b[0m\u001b[0mrename\u001b[0m\u001b[1;33m(\u001b[0m\u001b[0mcolumns\u001b[0m\u001b[1;33m=\u001b[0m\u001b[1;33m{\u001b[0m\u001b[1;34m'Precio'\u001b[0m\u001b[1;33m:\u001b[0m \u001b[0msymbol\u001b[0m\u001b[1;33m}\u001b[0m\u001b[1;33m)\u001b[0m\u001b[1;33m\u001b[0m\u001b[1;33m\u001b[0m\u001b[0m\n\u001b[1;32m---> 37\u001b[1;33m         \u001b[0mdfBase\u001b[0m \u001b[1;33m=\u001b[0m \u001b[0mdfBase\u001b[0m\u001b[1;33m.\u001b[0m\u001b[0mjoin\u001b[0m\u001b[1;33m(\u001b[0m\u001b[0mdf_temp\u001b[0m\u001b[1;33m)\u001b[0m\u001b[1;33m\u001b[0m\u001b[1;33m\u001b[0m\u001b[0m\n\u001b[0m\u001b[0;32m     38\u001b[0m \u001b[1;33m\u001b[0m\u001b[0m\n\u001b[0;32m     39\u001b[0m     \u001b[0mdfBase\u001b[0m\u001b[1;33m.\u001b[0m\u001b[0mfillna\u001b[0m\u001b[1;33m(\u001b[0m\u001b[0mmethod\u001b[0m \u001b[1;33m=\u001b[0m \u001b[1;34m\"ffill\"\u001b[0m\u001b[1;33m,\u001b[0m \u001b[0minplace\u001b[0m \u001b[1;33m=\u001b[0m \u001b[1;32mTrue\u001b[0m\u001b[1;33m)\u001b[0m\u001b[1;33m\u001b[0m\u001b[1;33m\u001b[0m\u001b[0m\n",
      "\u001b[1;32mC:\\Python38\\lib\\site-packages\\pandas\\core\\frame.py\u001b[0m in \u001b[0;36mjoin\u001b[1;34m(self, other, on, how, lsuffix, rsuffix, sort)\u001b[0m\n\u001b[0;32m   7868\u001b[0m         \u001b[1;36m5\u001b[0m  \u001b[0mK5\u001b[0m  \u001b[0mA5\u001b[0m  \u001b[0mNaN\u001b[0m\u001b[1;33m\u001b[0m\u001b[1;33m\u001b[0m\u001b[0m\n\u001b[0;32m   7869\u001b[0m         \"\"\"\n\u001b[1;32m-> 7870\u001b[1;33m         return self._join_compat(\n\u001b[0m\u001b[0;32m   7871\u001b[0m             \u001b[0mother\u001b[0m\u001b[1;33m,\u001b[0m \u001b[0mon\u001b[0m\u001b[1;33m=\u001b[0m\u001b[0mon\u001b[0m\u001b[1;33m,\u001b[0m \u001b[0mhow\u001b[0m\u001b[1;33m=\u001b[0m\u001b[0mhow\u001b[0m\u001b[1;33m,\u001b[0m \u001b[0mlsuffix\u001b[0m\u001b[1;33m=\u001b[0m\u001b[0mlsuffix\u001b[0m\u001b[1;33m,\u001b[0m \u001b[0mrsuffix\u001b[0m\u001b[1;33m=\u001b[0m\u001b[0mrsuffix\u001b[0m\u001b[1;33m,\u001b[0m \u001b[0msort\u001b[0m\u001b[1;33m=\u001b[0m\u001b[0msort\u001b[0m\u001b[1;33m\u001b[0m\u001b[1;33m\u001b[0m\u001b[0m\n\u001b[0;32m   7872\u001b[0m         )\n",
      "\u001b[1;32mC:\\Python38\\lib\\site-packages\\pandas\\core\\frame.py\u001b[0m in \u001b[0;36m_join_compat\u001b[1;34m(self, other, on, how, lsuffix, rsuffix, sort)\u001b[0m\n\u001b[0;32m   7884\u001b[0m \u001b[1;33m\u001b[0m\u001b[0m\n\u001b[0;32m   7885\u001b[0m         \u001b[1;32mif\u001b[0m \u001b[0misinstance\u001b[0m\u001b[1;33m(\u001b[0m\u001b[0mother\u001b[0m\u001b[1;33m,\u001b[0m \u001b[0mDataFrame\u001b[0m\u001b[1;33m)\u001b[0m\u001b[1;33m:\u001b[0m\u001b[1;33m\u001b[0m\u001b[1;33m\u001b[0m\u001b[0m\n\u001b[1;32m-> 7886\u001b[1;33m             return merge(\n\u001b[0m\u001b[0;32m   7887\u001b[0m                 \u001b[0mself\u001b[0m\u001b[1;33m,\u001b[0m\u001b[1;33m\u001b[0m\u001b[1;33m\u001b[0m\u001b[0m\n\u001b[0;32m   7888\u001b[0m                 \u001b[0mother\u001b[0m\u001b[1;33m,\u001b[0m\u001b[1;33m\u001b[0m\u001b[1;33m\u001b[0m\u001b[0m\n",
      "\u001b[1;32mC:\\Python38\\lib\\site-packages\\pandas\\core\\reshape\\merge.py\u001b[0m in \u001b[0;36mmerge\u001b[1;34m(left, right, how, on, left_on, right_on, left_index, right_index, sort, suffixes, copy, indicator, validate)\u001b[0m\n\u001b[0;32m     87\u001b[0m         \u001b[0mvalidate\u001b[0m\u001b[1;33m=\u001b[0m\u001b[0mvalidate\u001b[0m\u001b[1;33m,\u001b[0m\u001b[1;33m\u001b[0m\u001b[1;33m\u001b[0m\u001b[0m\n\u001b[0;32m     88\u001b[0m     )\n\u001b[1;32m---> 89\u001b[1;33m     \u001b[1;32mreturn\u001b[0m \u001b[0mop\u001b[0m\u001b[1;33m.\u001b[0m\u001b[0mget_result\u001b[0m\u001b[1;33m(\u001b[0m\u001b[1;33m)\u001b[0m\u001b[1;33m\u001b[0m\u001b[1;33m\u001b[0m\u001b[0m\n\u001b[0m\u001b[0;32m     90\u001b[0m \u001b[1;33m\u001b[0m\u001b[0m\n\u001b[0;32m     91\u001b[0m \u001b[1;33m\u001b[0m\u001b[0m\n",
      "\u001b[1;32mC:\\Python38\\lib\\site-packages\\pandas\\core\\reshape\\merge.py\u001b[0m in \u001b[0;36mget_result\u001b[1;34m(self)\u001b[0m\n\u001b[0;32m    668\u001b[0m         \u001b[0mjoin_index\u001b[0m\u001b[1;33m,\u001b[0m \u001b[0mleft_indexer\u001b[0m\u001b[1;33m,\u001b[0m \u001b[0mright_indexer\u001b[0m \u001b[1;33m=\u001b[0m \u001b[0mself\u001b[0m\u001b[1;33m.\u001b[0m\u001b[0m_get_join_info\u001b[0m\u001b[1;33m(\u001b[0m\u001b[1;33m)\u001b[0m\u001b[1;33m\u001b[0m\u001b[1;33m\u001b[0m\u001b[0m\n\u001b[0;32m    669\u001b[0m \u001b[1;33m\u001b[0m\u001b[0m\n\u001b[1;32m--> 670\u001b[1;33m         llabels, rlabels = _items_overlap_with_suffix(\n\u001b[0m\u001b[0;32m    671\u001b[0m             \u001b[0mself\u001b[0m\u001b[1;33m.\u001b[0m\u001b[0mleft\u001b[0m\u001b[1;33m.\u001b[0m\u001b[0m_info_axis\u001b[0m\u001b[1;33m,\u001b[0m \u001b[0mself\u001b[0m\u001b[1;33m.\u001b[0m\u001b[0mright\u001b[0m\u001b[1;33m.\u001b[0m\u001b[0m_info_axis\u001b[0m\u001b[1;33m,\u001b[0m \u001b[0mself\u001b[0m\u001b[1;33m.\u001b[0m\u001b[0msuffixes\u001b[0m\u001b[1;33m\u001b[0m\u001b[1;33m\u001b[0m\u001b[0m\n\u001b[0;32m    672\u001b[0m         )\n",
      "\u001b[1;32mC:\\Python38\\lib\\site-packages\\pandas\\core\\reshape\\merge.py\u001b[0m in \u001b[0;36m_items_overlap_with_suffix\u001b[1;34m(left, right, suffixes)\u001b[0m\n\u001b[0;32m   2089\u001b[0m \u001b[1;33m\u001b[0m\u001b[0m\n\u001b[0;32m   2090\u001b[0m     \u001b[1;32mif\u001b[0m \u001b[1;32mnot\u001b[0m \u001b[0mlsuffix\u001b[0m \u001b[1;32mand\u001b[0m \u001b[1;32mnot\u001b[0m \u001b[0mrsuffix\u001b[0m\u001b[1;33m:\u001b[0m\u001b[1;33m\u001b[0m\u001b[1;33m\u001b[0m\u001b[0m\n\u001b[1;32m-> 2091\u001b[1;33m         \u001b[1;32mraise\u001b[0m \u001b[0mValueError\u001b[0m\u001b[1;33m(\u001b[0m\u001b[1;34mf\"columns overlap but no suffix specified: {to_rename}\"\u001b[0m\u001b[1;33m)\u001b[0m\u001b[1;33m\u001b[0m\u001b[1;33m\u001b[0m\u001b[0m\n\u001b[0m\u001b[0;32m   2092\u001b[0m \u001b[1;33m\u001b[0m\u001b[0m\n\u001b[0;32m   2093\u001b[0m     \u001b[1;32mdef\u001b[0m \u001b[0mrenamer\u001b[0m\u001b[1;33m(\u001b[0m\u001b[0mx\u001b[0m\u001b[1;33m,\u001b[0m \u001b[0msuffix\u001b[0m\u001b[1;33m)\u001b[0m\u001b[1;33m:\u001b[0m\u001b[1;33m\u001b[0m\u001b[1;33m\u001b[0m\u001b[0m\n",
      "\u001b[1;31mValueError\u001b[0m: columns overlap but no suffix specified: Index(['ACTIMED'], dtype='object')"
     ]
    }
   ],
   "source": [
    "#11202\n",
    "df = pd.DataFrame(columns=['CLAVE_CLIENTE','ACTICOB', 'ACTIGOB', 'ACTIMED', 'ACTIREN', 'ALTERNA', 'IMPULSA',\n",
    "       'ACTI500', 'MAYA', 'ACTVIDA'])\n",
    "for i in range(0,11201):\n",
    "    aux = clientes[clientes.CLAVE_CLIENTE == claves_unicas[i]].reset_index(drop=True)\n",
    "    #print(aux.to_string())\n",
    "    symbols = aux.DETALLE_PRODUCTO.values\n",
    "    \n",
    "    #Eliminamos las comas\n",
    "    aux['POSICION_CUENTA_FECHA_TRANS']=aux['POSICION_CUENTA_FECHA_TRANS'].str.replace(',','').astype(int)\n",
    "\n",
    "    weights = aux.POSICION_CUENTA_FECHA_TRANS.values\n",
    "    precios = load_prices(symbols,\"MXX\", \"2016-12-01\", \"2019-08-26\")\n",
    "    \n",
    "    assets_return , S = in_return_cov(precios)\n",
    "\n",
    "    #print(\".-.-.-. Covariance Matrix .-.-.-.\")\n",
    "    #display(pd.DataFrame(S,columns = symbols,index = symbols))\n",
    "    #print(\".-.-.-.-.-.-.-.-.-.-.-.--.-.-.-..-.\")\n",
    "    W = mkt_weights(weights)\n",
    "    \n",
    "    #display(pd.DataFrame({'Annual Mean Return %': assets_return*100.00, 'Weight (based on market cap)': W}, index=symbols).T)\n",
    "    #print(\".-.-.-.-.-.-.-.-.-.-.-.--.-.-.-..-.\")\n",
    "    #print(\".-.-.-. Delta - Coeficiente de aversion al riesgo .-.-.-.\")\n",
    "    A = risk_return(W,S,assets_return)\n",
    "    #display(A)\n",
    "    #print(\".-.-.-. vector de retornos de equilibrio .-.-.-.\")\n",
    "    #Calculado usando otimização reversa.\n",
    "    PI = vector_equilibrium_return(S, W, assets_return)\n",
    "    #display(pd.DataFrame(np.transpose(PI), index=symbols))\n",
    "    #print(\".-.-.-.-.-.-.-.-.-.-.-.--.-.-.-..-.\")\n",
    "    Q = np.zeros((3,1))\n",
    "    Q[0,0] = 0.005\n",
    "    Q[1,0] = 0.01\n",
    "    Q[2,0] = 0.005\n",
    "\n",
    "    P = np.zeros((3,len(symbols)))\n",
    "\n",
    "    P[0,random.randint(0, len(symbols)-1)] = 1\n",
    "    P[0,random.randint(0, len(symbols)-1)] = -1\n",
    "\n",
    "    P[1,random.randint(0, len(symbols)-1)] = 1\n",
    "    P[1,random.randint(0, len(symbols)-1)] = -1\n",
    "\n",
    "    P[2,random.randint(0, len(symbols)-1)] = 1\n",
    "    P[2,random.randint(0, len(symbols)-1)] = -1\n",
    "\n",
    "    #display(pd.DataFrame(Q, columns = [\"Views\"]) )\n",
    "\n",
    "    #display(pd.DataFrame(P,columns = symbols) )\n",
    "    #print(\".-.-.-.-.-.-.-.-.-.-.-.--.-.-.-..-.\")\n",
    "\n",
    "    #print(\".-.-.-. Black-Litterman formula .-.-.-.\")\n",
    "    #Calculando Black-Litterman formula\n",
    "    t = 1 / len(precios) # Medida de incerteza das estimativas de retornos pelo método Meucci\n",
    "    expc_return = posterior_estimate_return(t,S,P,Q,PI)\n",
    "    #display(pd.DataFrame(expc_return, index = symbols))\n",
    "    #print(\".-.-.-.-.-.-.-.-.-.-.-.--.-.-.-..-.\")\n",
    "    #print(\".-.-.-. Varianza Posterior .-.-.-.\")\n",
    "    post_cov = posterior_covariance(t,S,P,PI)\n",
    "    #display(pd.DataFrame(post_cov, index = symbols, columns = symbols))\n",
    "    cov_post_estimate = post_cov + S\n",
    "\n",
    "    #display(pd.DataFrame(cov_post_estimate, index = symbols, columns = symbols))\n",
    "    #print(\".-.-.-. Nuevo Peso del Portafolio .-.-.-.\")\n",
    "    new_weigth = np.dot(np.transpose(expc_return),np.linalg.inv(A*cov_post_estimate))\n",
    "    result = pd.DataFrame(new_weigth, columns = symbols)\n",
    "    result['CLAVE_CLIENTE'] = aux.CLAVE_CLIENTE.unique()[0]\n",
    "    df = df.append(result, ignore_index=True)\n",
    "    \n",
    "\n",
    "#df\n",
    "\n"
   ]
  },
  {
   "cell_type": "code",
   "execution_count": 204,
   "metadata": {},
   "outputs": [
    {
     "output_type": "execute_result",
     "data": {
      "text/plain": [
       "  CLAVE_CLIENTE   ACTICOB ACTIGOB ACTIMED   ACTIREN ALTERNA IMPULSA ACTI500  \\\n",
       "0      90001991  0.122824     NaN     NaN -0.119421     NaN     NaN     NaN   \n",
       "\n",
       "      MAYA ACTVIDA  \n",
       "0  0.54659     NaN  "
      ],
      "text/html": "<div>\n<style scoped>\n    .dataframe tbody tr th:only-of-type {\n        vertical-align: middle;\n    }\n\n    .dataframe tbody tr th {\n        vertical-align: top;\n    }\n\n    .dataframe thead th {\n        text-align: right;\n    }\n</style>\n<table border=\"1\" class=\"dataframe\">\n  <thead>\n    <tr style=\"text-align: right;\">\n      <th></th>\n      <th>CLAVE_CLIENTE</th>\n      <th>ACTICOB</th>\n      <th>ACTIGOB</th>\n      <th>ACTIMED</th>\n      <th>ACTIREN</th>\n      <th>ALTERNA</th>\n      <th>IMPULSA</th>\n      <th>ACTI500</th>\n      <th>MAYA</th>\n      <th>ACTVIDA</th>\n    </tr>\n  </thead>\n  <tbody>\n    <tr>\n      <th>0</th>\n      <td>90001991</td>\n      <td>0.122824</td>\n      <td>NaN</td>\n      <td>NaN</td>\n      <td>-0.119421</td>\n      <td>NaN</td>\n      <td>NaN</td>\n      <td>NaN</td>\n      <td>0.54659</td>\n      <td>NaN</td>\n    </tr>\n  </tbody>\n</table>\n</div>"
     },
     "metadata": {},
     "execution_count": 204
    }
   ],
   "source": [
    "df"
   ]
  }
 ]
}