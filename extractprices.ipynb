{
 "metadata": {
  "language_info": {
   "codemirror_mode": {
    "name": "ipython",
    "version": 3
   },
   "file_extension": ".py",
   "mimetype": "text/x-python",
   "name": "python",
   "nbconvert_exporter": "python",
   "pygments_lexer": "ipython3",
   "version": "3.8.3"
  },
  "orig_nbformat": 2,
  "kernelspec": {
   "name": "python383jvsc74a57bd02db524e06e9f5f4ffedc911c917cb75e12dbc923643829bf417064a77eb14d37",
   "display_name": "Python 3.8.3 64-bit"
  }
 },
 "nbformat": 4,
 "nbformat_minor": 2,
 "cells": [
  {
   "cell_type": "code",
   "execution_count": 2,
   "metadata": {},
   "outputs": [],
   "source": [
    "import numpy as np\n",
    "import pandas as pd\n",
    "import scipy"
   ]
  },
  {
   "cell_type": "code",
   "execution_count": 3,
   "metadata": {},
   "outputs": [
    {
     "output_type": "execute_result",
     "data": {
      "text/plain": [
       "         Fecha  Emisora Serie     Precio\n",
       "0     20161201  ACTICOB   B-2  26.208114\n",
       "1     20161201  ACTIGOB   B-2   3.982440\n",
       "2     20161201  ACTIMED   B-2   4.409726\n",
       "3     20161201  ACTIREN   B-2   7.491280\n",
       "4     20161201  ALTERNA   B-2   3.342991\n",
       "...        ...      ...   ...        ...\n",
       "5938  20191213     MAYA    B2  31.985886\n",
       "5939  20191217     MAYA    B2  32.955200\n",
       "5940  20191224     MAYA    B2  32.873076\n",
       "5941  20200106     MAYA    B2  33.232250\n",
       "5942  20200108     MAYA    B2  32.832774\n",
       "\n",
       "[5943 rows x 4 columns]"
      ],
      "text/html": "<div>\n<style scoped>\n    .dataframe tbody tr th:only-of-type {\n        vertical-align: middle;\n    }\n\n    .dataframe tbody tr th {\n        vertical-align: top;\n    }\n\n    .dataframe thead th {\n        text-align: right;\n    }\n</style>\n<table border=\"1\" class=\"dataframe\">\n  <thead>\n    <tr style=\"text-align: right;\">\n      <th></th>\n      <th>Fecha</th>\n      <th>Emisora</th>\n      <th>Serie</th>\n      <th>Precio</th>\n    </tr>\n  </thead>\n  <tbody>\n    <tr>\n      <th>0</th>\n      <td>20161201</td>\n      <td>ACTICOB</td>\n      <td>B-2</td>\n      <td>26.208114</td>\n    </tr>\n    <tr>\n      <th>1</th>\n      <td>20161201</td>\n      <td>ACTIGOB</td>\n      <td>B-2</td>\n      <td>3.982440</td>\n    </tr>\n    <tr>\n      <th>2</th>\n      <td>20161201</td>\n      <td>ACTIMED</td>\n      <td>B-2</td>\n      <td>4.409726</td>\n    </tr>\n    <tr>\n      <th>3</th>\n      <td>20161201</td>\n      <td>ACTIREN</td>\n      <td>B-2</td>\n      <td>7.491280</td>\n    </tr>\n    <tr>\n      <th>4</th>\n      <td>20161201</td>\n      <td>ALTERNA</td>\n      <td>B-2</td>\n      <td>3.342991</td>\n    </tr>\n    <tr>\n      <th>...</th>\n      <td>...</td>\n      <td>...</td>\n      <td>...</td>\n      <td>...</td>\n    </tr>\n    <tr>\n      <th>5938</th>\n      <td>20191213</td>\n      <td>MAYA</td>\n      <td>B2</td>\n      <td>31.985886</td>\n    </tr>\n    <tr>\n      <th>5939</th>\n      <td>20191217</td>\n      <td>MAYA</td>\n      <td>B2</td>\n      <td>32.955200</td>\n    </tr>\n    <tr>\n      <th>5940</th>\n      <td>20191224</td>\n      <td>MAYA</td>\n      <td>B2</td>\n      <td>32.873076</td>\n    </tr>\n    <tr>\n      <th>5941</th>\n      <td>20200106</td>\n      <td>MAYA</td>\n      <td>B2</td>\n      <td>33.232250</td>\n    </tr>\n    <tr>\n      <th>5942</th>\n      <td>20200108</td>\n      <td>MAYA</td>\n      <td>B2</td>\n      <td>32.832774</td>\n    </tr>\n  </tbody>\n</table>\n<p>5943 rows × 4 columns</p>\n</div>"
     },
     "metadata": {},
     "execution_count": 3
    }
   ],
   "source": [
    "precios = pd.read_csv(\"precios-B2.csv\")\n",
    "precios"
   ]
  },
  {
   "cell_type": "code",
   "execution_count": 4,
   "metadata": {},
   "outputs": [],
   "source": [
    "emisoras = ['ACTICOB', 'ACTIGOB', 'ACTIMED', 'ACTIREN', 'ALTERNA', 'IMPULSA',\n",
    "       'ACTI500', 'MAYA', 'ACTVIDA']"
   ]
  },
  {
   "cell_type": "code",
   "execution_count": 7,
   "metadata": {},
   "outputs": [],
   "source": [
    "\n",
    "for elem in emisoras:\n",
    "    aux = precios[precios[\"Emisora\"] == elem]\n",
    "    aux = aux.drop('Serie', axis=1)\n",
    "    aux = aux.drop('Emisora', axis=1)\n",
    "    aux = aux.set_index('Fecha')\n",
    "    aux.to_csv(\"data/\" + elem + \".csv\", index = True, header=True)\n",
    "\n",
    "\n"
   ]
  },
  {
   "cell_type": "code",
   "execution_count": null,
   "metadata": {},
   "outputs": [],
   "source": []
  }
 ]
}