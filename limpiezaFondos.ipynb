{
 "metadata": {
  "language_info": {
   "codemirror_mode": {
    "name": "ipython",
    "version": 3
   },
   "file_extension": ".py",
   "mimetype": "text/x-python",
   "name": "python",
   "nbconvert_exporter": "python",
   "pygments_lexer": "ipython3",
   "version": "3.8.3"
  },
  "orig_nbformat": 2,
  "kernelspec": {
   "name": "python383jvsc74a57bd02db524e06e9f5f4ffedc911c917cb75e12dbc923643829bf417064a77eb14d37",
   "display_name": "Python 3.8.3 64-bit"
  }
 },
 "nbformat": 4,
 "nbformat_minor": 2,
 "cells": [
  {
   "cell_type": "code",
   "execution_count": 1,
   "metadata": {},
   "outputs": [],
   "source": [
    "import numpy as np\n",
    "import pandas as pd\n",
    "import scipy"
   ]
  },
  {
   "cell_type": "code",
   "execution_count": 14,
   "metadata": {},
   "outputs": [],
   "source": [
    "fondos = pd.read_csv(\"portafolios.csv\",sep=';')"
   ]
  },
  {
   "cell_type": "code",
   "execution_count": 15,
   "metadata": {},
   "outputs": [
    {
     "output_type": "execute_result",
     "data": {
      "text/plain": [
       "       BP_Único_y/o_Repetido  CLAVE_CLIENTE  CLAVE_UNIDAD_NEGOCIO  \\\n",
       "0                      Único       90000175                     1   \n",
       "1                      Único       90000613                     1   \n",
       "2                      Único       90000910                     1   \n",
       "3                      Único       90000944                     1   \n",
       "4                   Repetido       90000944                     1   \n",
       "...                      ...            ...                   ...   \n",
       "117824              Repetido       91035253                     1   \n",
       "117825              Repetido       91035253                     1   \n",
       "117826                 Único       97523534                     1   \n",
       "117827              Repetido       97523534                     1   \n",
       "117828              Repetido       97523534                     1   \n",
       "\n",
       "            CATEGORIA_PRODUCTO  \\\n",
       "0              FONDOS DE DEUDA   \n",
       "1                   CUENTA EJE   \n",
       "2                   CUENTA EJE   \n",
       "3                   CUENTA EJE   \n",
       "4               RENTA VARIABLE   \n",
       "...                        ...   \n",
       "117824  PENDIENTE POR LIQUIDAR   \n",
       "117825  PENDIENTE POR LIQUIDAR   \n",
       "117826              CUENTA EJE   \n",
       "117827         FONDOS DE DEUDA   \n",
       "117828  PENDIENTE POR LIQUIDAR   \n",
       "\n",
       "                                         DETALLE_PRODUCTO  \\\n",
       "0        ACTIRENT, S.A. DE C.V. SOC INV DE INSTR DE DEUDA   \n",
       "1                      CUENTA INVERSOR / NOMINA EMPLEADOS   \n",
       "2                      CUENTA INVERSOR / NOMINA EMPLEADOS   \n",
       "3                                    Cuenta Inversor -MXN   \n",
       "4            FONDO ACTINVER PORTAFOLIO TACTICO 3 SA DE CV   \n",
       "...                                                   ...   \n",
       "117824                                            ALTERNA   \n",
       "117825                                            ACTIMED   \n",
       "117826                               Cuenta Inversor -MXN   \n",
       "117827  ACTIMED, S.A. DE C.V SOC DE INV EN INSTR DE DEUDA   \n",
       "117828                                            ACTIMED   \n",
       "\n",
       "       POSICION_CUENTA_FECHA_TRANS POSICION_CLIENTE_FECHA_TRANS  \\\n",
       "0                         202,017                      202,017    \n",
       "1                             211                          211    \n",
       "2                             181                          181    \n",
       "3                              68                       50,368    \n",
       "4                          50,301                            -    \n",
       "...                            ...                          ...   \n",
       "117824                    (99,997)                           -    \n",
       "117825                    (99,999)                           -    \n",
       "117826                    200,000                      200,000    \n",
       "117827                    199,997                            -    \n",
       "117828                   (199,997)                           -    \n",
       "\n",
       "       POSICION_CLIENTE_FECHA_TRANS.1  \n",
       "0                            202,017   \n",
       "1                                211   \n",
       "2                                181   \n",
       "3                             50,368   \n",
       "4                                  -   \n",
       "...                               ...  \n",
       "117824                             -   \n",
       "117825                             -   \n",
       "117826                       200,000   \n",
       "117827                             -   \n",
       "117828                             -   \n",
       "\n",
       "[117829 rows x 8 columns]"
      ],
      "text/html": "<div>\n<style scoped>\n    .dataframe tbody tr th:only-of-type {\n        vertical-align: middle;\n    }\n\n    .dataframe tbody tr th {\n        vertical-align: top;\n    }\n\n    .dataframe thead th {\n        text-align: right;\n    }\n</style>\n<table border=\"1\" class=\"dataframe\">\n  <thead>\n    <tr style=\"text-align: right;\">\n      <th></th>\n      <th>BP_Único_y/o_Repetido</th>\n      <th>CLAVE_CLIENTE</th>\n      <th>CLAVE_UNIDAD_NEGOCIO</th>\n      <th>CATEGORIA_PRODUCTO</th>\n      <th>DETALLE_PRODUCTO</th>\n      <th>POSICION_CUENTA_FECHA_TRANS</th>\n      <th>POSICION_CLIENTE_FECHA_TRANS</th>\n      <th>POSICION_CLIENTE_FECHA_TRANS.1</th>\n    </tr>\n  </thead>\n  <tbody>\n    <tr>\n      <th>0</th>\n      <td>Único</td>\n      <td>90000175</td>\n      <td>1</td>\n      <td>FONDOS DE DEUDA</td>\n      <td>ACTIRENT, S.A. DE C.V. SOC INV DE INSTR DE DEUDA</td>\n      <td>202,017</td>\n      <td>202,017</td>\n      <td>202,017</td>\n    </tr>\n    <tr>\n      <th>1</th>\n      <td>Único</td>\n      <td>90000613</td>\n      <td>1</td>\n      <td>CUENTA EJE</td>\n      <td>CUENTA INVERSOR / NOMINA EMPLEADOS</td>\n      <td>211</td>\n      <td>211</td>\n      <td>211</td>\n    </tr>\n    <tr>\n      <th>2</th>\n      <td>Único</td>\n      <td>90000910</td>\n      <td>1</td>\n      <td>CUENTA EJE</td>\n      <td>CUENTA INVERSOR / NOMINA EMPLEADOS</td>\n      <td>181</td>\n      <td>181</td>\n      <td>181</td>\n    </tr>\n    <tr>\n      <th>3</th>\n      <td>Único</td>\n      <td>90000944</td>\n      <td>1</td>\n      <td>CUENTA EJE</td>\n      <td>Cuenta Inversor -MXN</td>\n      <td>68</td>\n      <td>50,368</td>\n      <td>50,368</td>\n    </tr>\n    <tr>\n      <th>4</th>\n      <td>Repetido</td>\n      <td>90000944</td>\n      <td>1</td>\n      <td>RENTA VARIABLE</td>\n      <td>FONDO ACTINVER PORTAFOLIO TACTICO 3 SA DE CV</td>\n      <td>50,301</td>\n      <td>-</td>\n      <td>-</td>\n    </tr>\n    <tr>\n      <th>...</th>\n      <td>...</td>\n      <td>...</td>\n      <td>...</td>\n      <td>...</td>\n      <td>...</td>\n      <td>...</td>\n      <td>...</td>\n      <td>...</td>\n    </tr>\n    <tr>\n      <th>117824</th>\n      <td>Repetido</td>\n      <td>91035253</td>\n      <td>1</td>\n      <td>PENDIENTE POR LIQUIDAR</td>\n      <td>ALTERNA</td>\n      <td>(99,997)</td>\n      <td>-</td>\n      <td>-</td>\n    </tr>\n    <tr>\n      <th>117825</th>\n      <td>Repetido</td>\n      <td>91035253</td>\n      <td>1</td>\n      <td>PENDIENTE POR LIQUIDAR</td>\n      <td>ACTIMED</td>\n      <td>(99,999)</td>\n      <td>-</td>\n      <td>-</td>\n    </tr>\n    <tr>\n      <th>117826</th>\n      <td>Único</td>\n      <td>97523534</td>\n      <td>1</td>\n      <td>CUENTA EJE</td>\n      <td>Cuenta Inversor -MXN</td>\n      <td>200,000</td>\n      <td>200,000</td>\n      <td>200,000</td>\n    </tr>\n    <tr>\n      <th>117827</th>\n      <td>Repetido</td>\n      <td>97523534</td>\n      <td>1</td>\n      <td>FONDOS DE DEUDA</td>\n      <td>ACTIMED, S.A. DE C.V SOC DE INV EN INSTR DE DEUDA</td>\n      <td>199,997</td>\n      <td>-</td>\n      <td>-</td>\n    </tr>\n    <tr>\n      <th>117828</th>\n      <td>Repetido</td>\n      <td>97523534</td>\n      <td>1</td>\n      <td>PENDIENTE POR LIQUIDAR</td>\n      <td>ACTIMED</td>\n      <td>(199,997)</td>\n      <td>-</td>\n      <td>-</td>\n    </tr>\n  </tbody>\n</table>\n<p>117829 rows × 8 columns</p>\n</div>"
     },
     "metadata": {},
     "execution_count": 15
    }
   ],
   "source": [
    "fondos"
   ]
  },
  {
   "cell_type": "code",
   "execution_count": 18,
   "metadata": {},
   "outputs": [],
   "source": [
    "fondos1 = fondos[fondos.CATEGORIA_PRODUCTO == \"FONDO DE FONDOS\"]\n",
    "fondos2 = fondos[fondos.CATEGORIA_PRODUCTO == \"FONDOS DE COBERTURA\"]\n",
    "fondos3 = fondos[fondos.CATEGORIA_PRODUCTO == \"FONDOS DE DEUDA\"]\n",
    "fondos4 = fondos[fondos.CATEGORIA_PRODUCTO == \"RENTA VARIABLE\"]"
   ]
  },
  {
   "cell_type": "code",
   "execution_count": 45,
   "metadata": {},
   "outputs": [
    {
     "output_type": "execute_result",
     "data": {
      "text/plain": [
       "       BP_Único_y/o_Repetido  CLAVE_CLIENTE  CLAVE_UNIDAD_NEGOCIO  \\\n",
       "42                  Repetido       90002890                     2   \n",
       "69                  Repetido       90004573                     2   \n",
       "98                  Repetido       90005430                     2   \n",
       "117                    Único       90006222                     2   \n",
       "125                 Repetido       90006354                     2   \n",
       "...                      ...            ...                   ...   \n",
       "117768              Repetido       97438337                     1   \n",
       "117779              Repetido       97372395                     1   \n",
       "117788              Repetido       97509483                     1   \n",
       "117794              Repetido       97507396                     1   \n",
       "117795              Repetido       97507396                     1   \n",
       "\n",
       "       CATEGORIA_PRODUCTO                                   DETALLE_PRODUCTO  \\\n",
       "42        FONDO DE FONDOS                                          IMPULSA B   \n",
       "69        FONDO DE FONDOS                                          IMPULSA B   \n",
       "98        FONDO DE FONDOS                                          IMPULSA B   \n",
       "117       FONDO DE FONDOS                                          EVEREST B   \n",
       "125       FONDO DE FONDOS                                          EVEREST B   \n",
       "...                   ...                                                ...   \n",
       "117768     RENTA VARIABLE               FONDO PORTAFOLIO TACTICO 12 SA DE CV   \n",
       "117779     RENTA VARIABLE  FONDO PRUDENTIAL INTERNACIONAL SA DE CV SII RE...   \n",
       "117788     RENTA VARIABLE  FONDO PRUDENTIAL INTERNACIONAL SA DE CV SII RE...   \n",
       "117794     RENTA VARIABLE  FONDO PRUDENTIAL INTERNACIONAL SA DE CV SII RE...   \n",
       "117795     RENTA VARIABLE  ACTINVER US, S.A DE C.V FONDO DE INVERSION DE ...   \n",
       "\n",
       "       POSICION_CUENTA_FECHA_TRANS POSICION_CLIENTE_FECHA_TRANS  \\\n",
       "42                        364,489                            -    \n",
       "69                         30,582                            -    \n",
       "98                          5,534                            -    \n",
       "117                         8,552                       12,315    \n",
       "125                        67,556                            -    \n",
       "...                            ...                          ...   \n",
       "117768                     49,386                            -    \n",
       "117779                     15,809                            -    \n",
       "117788                     15,321                            -    \n",
       "117794                     29,365                            -    \n",
       "117795                     19,600                            -    \n",
       "\n",
       "       POSICION_CLIENTE_FECHA_TRANS.1  \n",
       "42                                 -   \n",
       "69                                 -   \n",
       "98                                 -   \n",
       "117                           12,315   \n",
       "125                                -   \n",
       "...                               ...  \n",
       "117768                             -   \n",
       "117779                             -   \n",
       "117788                             -   \n",
       "117794                             -   \n",
       "117795                             -   \n",
       "\n",
       "[68510 rows x 8 columns]"
      ],
      "text/html": "<div>\n<style scoped>\n    .dataframe tbody tr th:only-of-type {\n        vertical-align: middle;\n    }\n\n    .dataframe tbody tr th {\n        vertical-align: top;\n    }\n\n    .dataframe thead th {\n        text-align: right;\n    }\n</style>\n<table border=\"1\" class=\"dataframe\">\n  <thead>\n    <tr style=\"text-align: right;\">\n      <th></th>\n      <th>BP_Único_y/o_Repetido</th>\n      <th>CLAVE_CLIENTE</th>\n      <th>CLAVE_UNIDAD_NEGOCIO</th>\n      <th>CATEGORIA_PRODUCTO</th>\n      <th>DETALLE_PRODUCTO</th>\n      <th>POSICION_CUENTA_FECHA_TRANS</th>\n      <th>POSICION_CLIENTE_FECHA_TRANS</th>\n      <th>POSICION_CLIENTE_FECHA_TRANS.1</th>\n    </tr>\n  </thead>\n  <tbody>\n    <tr>\n      <th>42</th>\n      <td>Repetido</td>\n      <td>90002890</td>\n      <td>2</td>\n      <td>FONDO DE FONDOS</td>\n      <td>IMPULSA B</td>\n      <td>364,489</td>\n      <td>-</td>\n      <td>-</td>\n    </tr>\n    <tr>\n      <th>69</th>\n      <td>Repetido</td>\n      <td>90004573</td>\n      <td>2</td>\n      <td>FONDO DE FONDOS</td>\n      <td>IMPULSA B</td>\n      <td>30,582</td>\n      <td>-</td>\n      <td>-</td>\n    </tr>\n    <tr>\n      <th>98</th>\n      <td>Repetido</td>\n      <td>90005430</td>\n      <td>2</td>\n      <td>FONDO DE FONDOS</td>\n      <td>IMPULSA B</td>\n      <td>5,534</td>\n      <td>-</td>\n      <td>-</td>\n    </tr>\n    <tr>\n      <th>117</th>\n      <td>Único</td>\n      <td>90006222</td>\n      <td>2</td>\n      <td>FONDO DE FONDOS</td>\n      <td>EVEREST B</td>\n      <td>8,552</td>\n      <td>12,315</td>\n      <td>12,315</td>\n    </tr>\n    <tr>\n      <th>125</th>\n      <td>Repetido</td>\n      <td>90006354</td>\n      <td>2</td>\n      <td>FONDO DE FONDOS</td>\n      <td>EVEREST B</td>\n      <td>67,556</td>\n      <td>-</td>\n      <td>-</td>\n    </tr>\n    <tr>\n      <th>...</th>\n      <td>...</td>\n      <td>...</td>\n      <td>...</td>\n      <td>...</td>\n      <td>...</td>\n      <td>...</td>\n      <td>...</td>\n      <td>...</td>\n    </tr>\n    <tr>\n      <th>117768</th>\n      <td>Repetido</td>\n      <td>97438337</td>\n      <td>1</td>\n      <td>RENTA VARIABLE</td>\n      <td>FONDO PORTAFOLIO TACTICO 12 SA DE CV</td>\n      <td>49,386</td>\n      <td>-</td>\n      <td>-</td>\n    </tr>\n    <tr>\n      <th>117779</th>\n      <td>Repetido</td>\n      <td>97372395</td>\n      <td>1</td>\n      <td>RENTA VARIABLE</td>\n      <td>FONDO PRUDENTIAL INTERNACIONAL SA DE CV SII RE...</td>\n      <td>15,809</td>\n      <td>-</td>\n      <td>-</td>\n    </tr>\n    <tr>\n      <th>117788</th>\n      <td>Repetido</td>\n      <td>97509483</td>\n      <td>1</td>\n      <td>RENTA VARIABLE</td>\n      <td>FONDO PRUDENTIAL INTERNACIONAL SA DE CV SII RE...</td>\n      <td>15,321</td>\n      <td>-</td>\n      <td>-</td>\n    </tr>\n    <tr>\n      <th>117794</th>\n      <td>Repetido</td>\n      <td>97507396</td>\n      <td>1</td>\n      <td>RENTA VARIABLE</td>\n      <td>FONDO PRUDENTIAL INTERNACIONAL SA DE CV SII RE...</td>\n      <td>29,365</td>\n      <td>-</td>\n      <td>-</td>\n    </tr>\n    <tr>\n      <th>117795</th>\n      <td>Repetido</td>\n      <td>97507396</td>\n      <td>1</td>\n      <td>RENTA VARIABLE</td>\n      <td>ACTINVER US, S.A DE C.V FONDO DE INVERSION DE ...</td>\n      <td>19,600</td>\n      <td>-</td>\n      <td>-</td>\n    </tr>\n  </tbody>\n</table>\n<p>68510 rows × 8 columns</p>\n</div>"
     },
     "metadata": {},
     "execution_count": 45
    }
   ],
   "source": [
    "frames = [fondos1,fondos2,fondos3,fondos4]\n",
    "fondos = pd.concat(frames)\n",
    "fondos"
   ]
  },
  {
   "cell_type": "code",
   "execution_count": 24,
   "metadata": {},
   "outputs": [],
   "source": [
    "fondos.to_csv('fondos2.csv', index = False, header=True)"
   ]
  },
  {
   "cell_type": "code",
   "execution_count": 48,
   "metadata": {},
   "outputs": [],
   "source": [
    "#precios['Fecha'] = pd.to_datetime(precios['Fecha'], yearfirst=True)"
   ]
  },
  {
   "cell_type": "code",
   "execution_count": 30,
   "metadata": {},
   "outputs": [],
   "source": [
    "DETALLE_PRODUCTO = fondos.DETALLE_PRODUCTO.unique()\n",
    "emisoras = ['ACTICOB', 'ACTIGOB', 'ACTIMED', 'ACTIREN', 'ALTERNA', 'IMPULSA',\n",
    "       'ACTI500', 'MAYA', 'ACTVIDA']"
   ]
  },
  {
   "cell_type": "code",
   "execution_count": 48,
   "metadata": {},
   "outputs": [],
   "source": [
    "fondoslimpio = fondos[fondos.DETALLE_PRODUCTO.str.contains('|'.join(emisoras))]"
   ]
  },
  {
   "cell_type": "code",
   "execution_count": 54,
   "metadata": {},
   "outputs": [],
   "source": [
    "fondoslimpio = fondoslimpio.drop(columns=['CLAVE_UNIDAD_NEGOCIO','POSICION_CLIENTE_FECHA_TRANS','POSICION_CLIENTE_FECHA_TRANS.1'])\n",
    "fondoslimpio =fondoslimpio.sort_values(by=['CLAVE_CLIENTE'])"
   ]
  },
  {
   "cell_type": "code",
   "execution_count": 55,
   "metadata": {},
   "outputs": [
    {
     "output_type": "execute_result",
     "data": {
      "text/plain": [
       "       BP_Único_y/o_Repetido  CLAVE_CLIENTE   CATEGORIA_PRODUCTO  \\\n",
       "0                      Único       90000175      FONDOS DE DEUDA   \n",
       "6                   Repetido       90001470      FONDOS DE DEUDA   \n",
       "8                   Repetido       90001801      FONDOS DE DEUDA   \n",
       "19                  Repetido       90001991  FONDOS DE COBERTURA   \n",
       "16                  Repetido       90001991       RENTA VARIABLE   \n",
       "...                      ...            ...                  ...   \n",
       "117761              Repetido       97509467      FONDOS DE DEUDA   \n",
       "117786              Repetido       97509483      FONDOS DE DEUDA   \n",
       "117804              Repetido       97509608      FONDOS DE DEUDA   \n",
       "117819              Repetido       97516819      FONDOS DE DEUDA   \n",
       "117827              Repetido       97523534      FONDOS DE DEUDA   \n",
       "\n",
       "                                         DETALLE_PRODUCTO  \\\n",
       "0        ACTIRENT, S.A. DE C.V. SOC INV DE INSTR DE DEUDA   \n",
       "6        ACTIRENT, S.A. DE C.V. SOC INV DE INSTR DE DEUDA   \n",
       "8        ACTIGOBER, S.A. DE C.V. SOC INV INSTRUM DE DEUDA   \n",
       "19                                              ACTICOB B   \n",
       "16      FONDO MAYA,S.A DE C.V.,SOC. DE INV. DE RENTA V...   \n",
       "...                                                   ...   \n",
       "117761  ACTIMED, S.A. DE C.V SOC DE INV EN INSTR DE DEUDA   \n",
       "117786   ACTIGOBER, S.A. DE C.V. SOC INV INSTRUM DE DEUDA   \n",
       "117804  ACTIMED, S.A. DE C.V SOC DE INV EN INSTR DE DEUDA   \n",
       "117819  ACTIMED, S.A. DE C.V SOC DE INV EN INSTR DE DEUDA   \n",
       "117827  ACTIMED, S.A. DE C.V SOC DE INV EN INSTR DE DEUDA   \n",
       "\n",
       "       POSICION_CUENTA_FECHA_TRANS  \n",
       "0                         202,017   \n",
       "6                           3,643   \n",
       "8                         133,605   \n",
       "19                            897   \n",
       "16                        265,258   \n",
       "...                            ...  \n",
       "117761                     45,010   \n",
       "117786                      4,498   \n",
       "117804                     49,999   \n",
       "117819                     49,999   \n",
       "117827                    199,997   \n",
       "\n",
       "[41458 rows x 5 columns]"
      ],
      "text/html": "<div>\n<style scoped>\n    .dataframe tbody tr th:only-of-type {\n        vertical-align: middle;\n    }\n\n    .dataframe tbody tr th {\n        vertical-align: top;\n    }\n\n    .dataframe thead th {\n        text-align: right;\n    }\n</style>\n<table border=\"1\" class=\"dataframe\">\n  <thead>\n    <tr style=\"text-align: right;\">\n      <th></th>\n      <th>BP_Único_y/o_Repetido</th>\n      <th>CLAVE_CLIENTE</th>\n      <th>CATEGORIA_PRODUCTO</th>\n      <th>DETALLE_PRODUCTO</th>\n      <th>POSICION_CUENTA_FECHA_TRANS</th>\n    </tr>\n  </thead>\n  <tbody>\n    <tr>\n      <th>0</th>\n      <td>Único</td>\n      <td>90000175</td>\n      <td>FONDOS DE DEUDA</td>\n      <td>ACTIRENT, S.A. DE C.V. SOC INV DE INSTR DE DEUDA</td>\n      <td>202,017</td>\n    </tr>\n    <tr>\n      <th>6</th>\n      <td>Repetido</td>\n      <td>90001470</td>\n      <td>FONDOS DE DEUDA</td>\n      <td>ACTIRENT, S.A. DE C.V. SOC INV DE INSTR DE DEUDA</td>\n      <td>3,643</td>\n    </tr>\n    <tr>\n      <th>8</th>\n      <td>Repetido</td>\n      <td>90001801</td>\n      <td>FONDOS DE DEUDA</td>\n      <td>ACTIGOBER, S.A. DE C.V. SOC INV INSTRUM DE DEUDA</td>\n      <td>133,605</td>\n    </tr>\n    <tr>\n      <th>19</th>\n      <td>Repetido</td>\n      <td>90001991</td>\n      <td>FONDOS DE COBERTURA</td>\n      <td>ACTICOB B</td>\n      <td>897</td>\n    </tr>\n    <tr>\n      <th>16</th>\n      <td>Repetido</td>\n      <td>90001991</td>\n      <td>RENTA VARIABLE</td>\n      <td>FONDO MAYA,S.A DE C.V.,SOC. DE INV. DE RENTA V...</td>\n      <td>265,258</td>\n    </tr>\n    <tr>\n      <th>...</th>\n      <td>...</td>\n      <td>...</td>\n      <td>...</td>\n      <td>...</td>\n      <td>...</td>\n    </tr>\n    <tr>\n      <th>117761</th>\n      <td>Repetido</td>\n      <td>97509467</td>\n      <td>FONDOS DE DEUDA</td>\n      <td>ACTIMED, S.A. DE C.V SOC DE INV EN INSTR DE DEUDA</td>\n      <td>45,010</td>\n    </tr>\n    <tr>\n      <th>117786</th>\n      <td>Repetido</td>\n      <td>97509483</td>\n      <td>FONDOS DE DEUDA</td>\n      <td>ACTIGOBER, S.A. DE C.V. SOC INV INSTRUM DE DEUDA</td>\n      <td>4,498</td>\n    </tr>\n    <tr>\n      <th>117804</th>\n      <td>Repetido</td>\n      <td>97509608</td>\n      <td>FONDOS DE DEUDA</td>\n      <td>ACTIMED, S.A. DE C.V SOC DE INV EN INSTR DE DEUDA</td>\n      <td>49,999</td>\n    </tr>\n    <tr>\n      <th>117819</th>\n      <td>Repetido</td>\n      <td>97516819</td>\n      <td>FONDOS DE DEUDA</td>\n      <td>ACTIMED, S.A. DE C.V SOC DE INV EN INSTR DE DEUDA</td>\n      <td>49,999</td>\n    </tr>\n    <tr>\n      <th>117827</th>\n      <td>Repetido</td>\n      <td>97523534</td>\n      <td>FONDOS DE DEUDA</td>\n      <td>ACTIMED, S.A. DE C.V SOC DE INV EN INSTR DE DEUDA</td>\n      <td>199,997</td>\n    </tr>\n  </tbody>\n</table>\n<p>41458 rows × 5 columns</p>\n</div>"
     },
     "metadata": {},
     "execution_count": 55
    }
   ],
   "source": [
    "\n",
    "fondoslimpio.to_csv('fondoslimpio.csv', index = False, header=True)\n",
    "fondoslimpio"
   ]
  },
  {
   "cell_type": "code",
   "execution_count": null,
   "metadata": {},
   "outputs": [],
   "source": []
  }
 ]
}